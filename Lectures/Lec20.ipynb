{
 "cells": [
  {
   "cell_type": "markdown",
   "metadata": {},
   "source": [
    "## Lec20 `#23/11`"
   ]
  },
  {
   "cell_type": "markdown",
   "metadata": {},
   "source": [
    "## REPL Loop in Scheme\n",
    "\n",
    "Source for: [Lec20](../src/Lec20.scm)\n",
    "\n"
   ]
  },
  {
   "cell_type": "code",
   "execution_count": 3,
   "metadata": {
    "collapsed": true
   },
   "outputs": [],
   "source": [
    "; v1\n",
    "(define (eval exp)\n",
    "  (cond \n",
    "   ((number? exp) exp)\n",
    "   ((sum? exp) (eval-sum exp))\n",
    "   (else (error))))\n",
    "\n",
    "(define (eval-sum exp)\n",
    "  (+ (eval (cadr exp)) \n",
    "     (eval (caddr exp))))\n",
    "\n",
    "(define (sum? exp)\n",
    "  (and (pair? exp) (equal? (car exp) '+)))"
   ]
  },
  {
   "cell_type": "code",
   "execution_count": 4,
   "metadata": {},
   "outputs": [
    {
     "data": {
      "text/plain": [
       "5"
      ]
     },
     "execution_count": 4,
     "metadata": {},
     "output_type": "execute_result"
    }
   ],
   "source": [
    "(eval `(+ 2 3))"
   ]
  },
  {
   "cell_type": "code",
   "execution_count": 5,
   "metadata": {},
   "outputs": [
    {
     "data": {
      "text/plain": [
       "9"
      ]
     },
     "execution_count": 5,
     "metadata": {},
     "output_type": "execute_result"
    }
   ],
   "source": [
    "(eval `(+ 4 (+ 1 4)))"
   ]
  },
  {
   "cell_type": "markdown",
   "metadata": {},
   "source": [
    "```scheme\n",
    "(define (eval exp)\n",
    "  (cond \n",
    "   ((number? exp) exp)\n",
    "   ((sum? exp) (eval-sum exp))\n",
    "   ((symbol? exp) (lookup exp))\n",
    "   ((define? exp) (eval-define exp))\n",
    "   (else (error))))\n",
    "\n",
    "(define env (make-table))\n",
    "(define (lookup name)\n",
    "    (let ((binding (table-get env name)))\n",
    "        (if (null? name) \n",
    "            (error)\n",
    "            (binding-value binding))))\n",
    "\n",
    "(define (eval-define exp)\n",
    "    (let ((name (cadr exp))\n",
    "          (valexp (caddr exp)))\n",
    "      (table-put! env name (eval valexp))))\n",
    "```"
   ]
  },
  {
   "cell_type": "markdown",
   "metadata": {},
   "source": [
    "Rest is on the source code given in the start!"
   ]
  }
 ],
 "metadata": {
  "kernelspec": {
   "display_name": "Calysto Scheme 3",
   "language": "scheme",
   "name": "calysto_scheme"
  },
  "language_info": {
   "codemirror_mode": {
    "name": "scheme"
   },
   "mimetype": "text/x-scheme",
   "name": "scheme",
   "pygments_lexer": "scheme"
  }
 },
 "nbformat": 4,
 "nbformat_minor": 2
}
