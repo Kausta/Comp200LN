{
 "cells": [
  {
   "cell_type": "markdown",
   "metadata": {},
   "source": [
    "# Lec10 `#19/10/2017`"
   ]
  },
  {
   "cell_type": "markdown",
   "metadata": {},
   "source": [
    "## Symbolic Differentation\n",
    "\n",
    "(Basic Deriv Eqs)"
   ]
  },
  {
   "cell_type": "markdown",
   "metadata": {},
   "source": [
    "### Abstract Data Types: \n",
    "```scheme\n",
    "; sum => \n",
    "(make-sum u v) ; => A Data Type\n",
    "(term-1 s)     ; => u\n",
    "(term-2 v)     ; => v\n",
    "(sum? s)       ; #t\n",
    "```\n",
    "s, u, v are \"expressions\", at here, assumed to be defined"
   ]
  },
  {
   "cell_type": "markdown",
   "metadata": {},
   "source": [
    "```scheme\n",
    "(define (deriv exp var)\n",
    "    (cond ((number? exp) 0)\n",
    "          ((variable? exp) \n",
    "           (if (same-var? exp var) 1 0))\n",
    "          ((sum? exp) (make-sum (deriv (term-1 exp) var)\n",
    "                                (deriv (term-2 exp) var)))\n",
    "          ...\n",
    "    ))\n",
    "```"
   ]
  },
  {
   "cell_type": "markdown",
   "metadata": {},
   "source": [
    "```scheme\n",
    "(product? exp)\n",
    "(make-product exp1 exp2)\n",
    "(factor-1 exp)\n",
    "(factor-2 exp)\n",
    "```"
   ]
  },
  {
   "cell_type": "markdown",
   "metadata": {},
   "source": [
    "```scheme\n",
    "          ...\n",
    "          ((product? exp) \n",
    "           (make-sum (make-product (factor-1 exp)\n",
    "                                   (deriv (factor-2 exp) var))\n",
    "                     (make-product (factor-2 exp)\n",
    "                                   (deriv (factor-1 exp) var))))\n",
    "          ...\n",
    "```"
   ]
  },
  {
   "cell_type": "markdown",
   "metadata": {},
   "source": [
    "```scheme\n",
    "(quotient? exp)\n",
    "(make-quotient exp1 exp2)\n",
    "(numer exp)\n",
    "(denom exp)\n",
    "```"
   ]
  },
  {
   "cell_type": "markdown",
   "metadata": {},
   "source": [
    "```scheme\n",
    "          ...\n",
    "          ((quotient? exp) \n",
    "           (make-quotient (make-diff (make-product (denom exp)\n",
    "                                                   (deriv (numer exp) var))\n",
    "                                     (make-product (numer exp))\n",
    "                                                   (deriv (denom exp) var))\n",
    "                          (make-product (denom exp) (denomexp))))\n",
    "          ...\n",
    "```"
   ]
  },
  {
   "cell_type": "markdown",
   "metadata": {},
   "source": [
    "### Symbols In LISP:"
   ]
  },
  {
   "cell_type": "markdown",
   "metadata": {},
   "source": []
  },
  {
   "cell_type": "code",
   "execution_count": 1,
   "metadata": {},
   "outputs": [
    {
     "data": {
      "text/plain": [
       "27"
      ]
     },
     "execution_count": 1,
     "metadata": {},
     "output_type": "execute_result"
    }
   ],
   "source": [
    "(define alpha 27)\n",
    "alpha"
   ]
  },
  {
   "cell_type": "code",
   "execution_count": 8,
   "metadata": {},
   "outputs": [
    {
     "data": {
      "text/plain": [
       "alpha"
      ]
     },
     "execution_count": 8,
     "metadata": {},
     "output_type": "execute_result"
    }
   ],
   "source": [
    "'alpha ; Symbol 'alpha'"
   ]
  },
  {
   "cell_type": "code",
   "execution_count": 9,
   "metadata": {},
   "outputs": [
    {
     "data": {
      "text/plain": [
       "alpha"
      ]
     },
     "execution_count": 9,
     "metadata": {},
     "output_type": "execute_result"
    }
   ],
   "source": [
    "`alpha"
   ]
  },
  {
   "cell_type": "markdown",
   "metadata": {},
   "source": [
    "Different from ``` \"alpha\" ```"
   ]
  },
  {
   "cell_type": "code",
   "execution_count": 6,
   "metadata": {},
   "outputs": [
    {
     "data": {
      "text/plain": [
       "alpha"
      ]
     },
     "execution_count": 6,
     "metadata": {},
     "output_type": "execute_result"
    }
   ],
   "source": [
    "(quote alpha)"
   ]
  },
  {
   "cell_type": "code",
   "execution_count": 11,
   "metadata": {},
   "outputs": [
    {
     "data": {
      "text/plain": [
       "#t"
      ]
     },
     "execution_count": 11,
     "metadata": {},
     "output_type": "execute_result"
    }
   ],
   "source": [
    "(symbol? `alpha)"
   ]
  },
  {
   "cell_type": "code",
   "execution_count": 12,
   "metadata": {},
   "outputs": [
    {
     "data": {
      "text/plain": [
       "#t"
      ]
     },
     "execution_count": 12,
     "metadata": {},
     "output_type": "execute_result"
    }
   ],
   "source": [
    "(eq? `x `x)"
   ]
  },
  {
   "cell_type": "code",
   "execution_count": 13,
   "metadata": {},
   "outputs": [
    {
     "data": {
      "text/plain": [
       "8"
      ]
     },
     "execution_count": 13,
     "metadata": {},
     "output_type": "execute_result"
    }
   ],
   "source": [
    "(define a 5)\n",
    "(define b 3)\n",
    "(+ a b)"
   ]
  },
  {
   "cell_type": "code",
   "execution_count": 16,
   "metadata": {},
   "outputs": [
    {
     "data": {
      "text/plain": [
       "(+ a b)"
      ]
     },
     "execution_count": 16,
     "metadata": {},
     "output_type": "execute_result"
    }
   ],
   "source": [
    "'(+ a b) ; => (list '+ 'a 'b)"
   ]
  },
  {
   "cell_type": "code",
   "execution_count": 17,
   "metadata": {},
   "outputs": [
    {
     "data": {
      "text/plain": [
       "#t"
      ]
     },
     "execution_count": 17,
     "metadata": {},
     "output_type": "execute_result"
    }
   ],
   "source": [
    "(define x `a)\n",
    "(symbol? x)"
   ]
  },
  {
   "cell_type": "code",
   "execution_count": 18,
   "metadata": {},
   "outputs": [
    {
     "data": {
      "text/plain": [
       "+"
      ]
     },
     "execution_count": 18,
     "metadata": {},
     "output_type": "execute_result"
    }
   ],
   "source": [
    "(car `(+ a b))"
   ]
  },
  {
   "cell_type": "markdown",
   "metadata": {},
   "source": [
    "### Back To Deriv"
   ]
  },
  {
   "cell_type": "markdown",
   "metadata": {},
   "source": [
    "$ a x ^ 2 + b x + c $ =>"
   ]
  },
  {
   "cell_type": "code",
   "execution_count": 19,
   "metadata": {},
   "outputs": [
    {
     "data": {
      "text/plain": [
       "(+ (* a (* x x)) (+ (* b x) c))"
      ]
     },
     "execution_count": 19,
     "metadata": {},
     "output_type": "execute_result"
    }
   ],
   "source": [
    "`(+ (* a (* x x))\n",
    "    (+ (* b x)\n",
    "       c))"
   ]
  },
  {
   "cell_type": "code",
   "execution_count": 42,
   "metadata": {},
   "outputs": [],
   "source": [
    "; \n",
    "(define (variable? exp) (symbol? exp))\n",
    "(define (same-variable? exp1 exp2) (eq? exp1 exp2))\n",
    ";\n",
    "(define (make-sum a b) (list '+ a b))\n",
    "(define (sum? exp) (and (pair? exp) (eq? (car exp) '+)))\n",
    "(define term-1 cadr)\n",
    "(define term-2 caddr)\n",
    ";\n",
    "(define (make-product a b) (list '* a b))\n",
    "(define (product? exp) (and (pair? exp) (eq? (car exp) '*)))\n",
    "(define factor-1 cadr)\n",
    "(define factor-2 caddr)\n",
    ";\n",
    "(define (make-quotient a b) (list '/ a b))\n",
    "(define (quotient? exp) (and (pair? exp) (eq? (car exp) '/)))\n",
    "(define numer cadr)\n",
    "(define denom caddr)"
   ]
  },
  {
   "cell_type": "code",
   "execution_count": 43,
   "metadata": {
    "collapsed": true
   },
   "outputs": [],
   "source": [
    "(define (deriv exp var)\n",
    "    (cond ((number? exp) 0)\n",
    "          ((variable? exp) \n",
    "           (if (same-variable? exp var) 1 0))\n",
    "          ((sum? exp) (make-sum (deriv (term-1 exp) var)\n",
    "                                (deriv (term-2 exp) var)))\n",
    "          ((product? exp) \n",
    "           (make-sum (make-product (factor-1 exp)\n",
    "                                   (deriv (factor-2 exp) var))\n",
    "                     (make-product (factor-2 exp)\n",
    "                                   (deriv (factor-1 exp) var))))\n",
    "          ((quotient? exp) \n",
    "           (make-quotient (make-diff (make-product (denom exp)\n",
    "                                                   (deriv (numer exp) var))\n",
    "                                     (make-product (numer exp))\n",
    "                                                   (deriv (denom exp) var))\n",
    "                          (make-product (denom exp) (denomexp))))\n",
    "    ))"
   ]
  },
  {
   "cell_type": "code",
   "execution_count": 30,
   "metadata": {},
   "outputs": [
    {
     "data": {
      "text/plain": [
       "(+ x 2)"
      ]
     },
     "execution_count": 30,
     "metadata": {},
     "output_type": "execute_result"
    }
   ],
   "source": [
    "(define expr `(+ x 2))\n",
    "expr"
   ]
  },
  {
   "cell_type": "code",
   "execution_count": 32,
   "metadata": {},
   "outputs": [
    {
     "data": {
      "text/plain": [
       "x"
      ]
     },
     "execution_count": 32,
     "metadata": {},
     "output_type": "execute_result"
    }
   ],
   "source": [
    "(term-1 expr)"
   ]
  },
  {
   "cell_type": "code",
   "execution_count": 37,
   "metadata": {},
   "outputs": [
    {
     "data": {
      "text/plain": [
       "2"
      ]
     },
     "execution_count": 37,
     "metadata": {},
     "output_type": "execute_result"
    }
   ],
   "source": [
    "(term-2 expr)"
   ]
  },
  {
   "cell_type": "code",
   "execution_count": 38,
   "metadata": {},
   "outputs": [
    {
     "data": {
      "text/plain": [
       "#f"
      ]
     },
     "execution_count": 38,
     "metadata": {},
     "output_type": "execute_result"
    }
   ],
   "source": [
    "(variable? expr)"
   ]
  },
  {
   "cell_type": "code",
   "execution_count": 35,
   "metadata": {},
   "outputs": [
    {
     "data": {
      "text/plain": [
       "#t"
      ]
     },
     "execution_count": 35,
     "metadata": {},
     "output_type": "execute_result"
    }
   ],
   "source": [
    "(variable? (term-1 expr))"
   ]
  },
  {
   "cell_type": "code",
   "execution_count": 36,
   "metadata": {},
   "outputs": [
    {
     "data": {
      "text/plain": [
       "(+ (+ x 2) 3)"
      ]
     },
     "execution_count": 36,
     "metadata": {},
     "output_type": "execute_result"
    }
   ],
   "source": [
    "(make-sum expr 3)"
   ]
  },
  {
   "cell_type": "code",
   "execution_count": 39,
   "metadata": {},
   "outputs": [
    {
     "data": {
      "text/plain": [
       "(+ 1 0)"
      ]
     },
     "execution_count": 39,
     "metadata": {},
     "output_type": "execute_result"
    }
   ],
   "source": [
    "(deriv expr 'x)"
   ]
  },
  {
   "cell_type": "code",
   "execution_count": 44,
   "metadata": {
    "collapsed": true
   },
   "outputs": [],
   "source": [
    "(define exp2 `(+ (* a (* x x))\n",
    "                 (+ (* b x)\n",
    "                     c)))"
   ]
  },
  {
   "cell_type": "code",
   "execution_count": 45,
   "metadata": {},
   "outputs": [
    {
     "data": {
      "text/plain": [
       "(+ (+ (* a (+ (* x 1) (* x 1))) (* (* x x) 0)) (+ (+ (* b 1) (* x 0)) 0))"
      ]
     },
     "execution_count": 45,
     "metadata": {},
     "output_type": "execute_result"
    }
   ],
   "source": [
    "(deriv exp2 'x)"
   ]
  },
  {
   "cell_type": "code",
   "execution_count": 62,
   "metadata": {
    "collapsed": true
   },
   "outputs": [],
   "source": [
    "(define (make-product a b) \n",
    "  (cond ((or (eq? a '0) (eq? b '0)) '0)\n",
    "        ((eq? a '1) b)\n",
    "        ((eq? b '1) a)\n",
    "        (else (list '* a b))))"
   ]
  },
  {
   "cell_type": "code",
   "execution_count": 65,
   "metadata": {
    "collapsed": true
   },
   "outputs": [],
   "source": [
    "(define (make-sum a b) \n",
    "  (cond ((eq? a '0) b)\n",
    "        ((eq? b '0) a)\n",
    "        ((eq? a b) (make-product '2 a))\n",
    "        (else (list '+ a b))))"
   ]
  },
  {
   "cell_type": "code",
   "execution_count": 67,
   "metadata": {},
   "outputs": [
    {
     "data": {
      "text/plain": [
       "(+ (* a (* 2 x)) b)"
      ]
     },
     "execution_count": 67,
     "metadata": {},
     "output_type": "execute_result"
    }
   ],
   "source": [
    "(deriv exp2 'x)"
   ]
  },
  {
   "cell_type": "code",
   "execution_count": 69,
   "metadata": {
    "collapsed": true
   },
   "outputs": [],
   "source": [
    "(define (make-sum a b) \n",
    "  (cond ((eq? a '0) b)\n",
    "        ((eq? b '0) a)\n",
    "        ((eq? a b) (make-product '2 a))\n",
    "        (else (list a '+ b))))\n",
    "(define (sum? exp) (eq? (cadr exp) '+))\n",
    "(define term-1 car)"
   ]
  },
  {
   "cell_type": "code",
   "execution_count": 70,
   "metadata": {
    "collapsed": true
   },
   "outputs": [],
   "source": [
    "(define (make-product a b) \n",
    "  (cond ((or (eq? a '0) (eq? b '0)) '0)\n",
    "        ((eq? a '1) b)\n",
    "        ((eq? b '1) a)\n",
    "        (else (list a '* b))))\n",
    "(define (product? exp) (eq? (cadr exp) '*))\n",
    "(define factor-1 car)"
   ]
  },
  {
   "cell_type": "code",
   "execution_count": 72,
   "metadata": {},
   "outputs": [
    {
     "data": {
      "text/plain": [
       "((a * (x * x)) + ((b * x) + c))"
      ]
     },
     "execution_count": 72,
     "metadata": {},
     "output_type": "execute_result"
    }
   ],
   "source": [
    "(define exp2 `((a * (x * x)) + ((b * x) + c)))\n",
    "exp2"
   ]
  },
  {
   "cell_type": "code",
   "execution_count": 73,
   "metadata": {},
   "outputs": [
    {
     "data": {
      "text/plain": [
       "((a * (2 * x)) + b)"
      ]
     },
     "execution_count": 73,
     "metadata": {},
     "output_type": "execute_result"
    }
   ],
   "source": [
    "(deriv exp2 'x)"
   ]
  },
  {
   "cell_type": "code",
   "execution_count": null,
   "metadata": {
    "collapsed": true
   },
   "outputs": [],
   "source": []
  }
 ],
 "metadata": {
  "kernelspec": {
   "display_name": "Calysto Scheme 3",
   "language": "scheme",
   "name": "calysto_scheme"
  },
  "language_info": {
   "codemirror_mode": {
    "name": "scheme"
   },
   "mimetype": "text/x-scheme",
   "name": "scheme",
   "pygments_lexer": "scheme"
  }
 },
 "nbformat": 4,
 "nbformat_minor": 2
}
