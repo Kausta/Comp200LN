{
 "cells": [
  {
   "cell_type": "markdown",
   "metadata": {},
   "source": [
    "# Lec17 `#14/11`\n",
    "\n",
    "## Scheme OOP\n",
    "\n",
    "- Basic Objects\n",
    "- Inheritance\n",
    "- Multiple Inheritance"
   ]
  },
  {
   "cell_type": "markdown",
   "metadata": {},
   "source": [
    "### Class Diagram\n",
    "\n",
    "Class: \n",
    "<table>\n",
    "<th>Person</th>\n",
    "<th>Class Name</th>\n",
    "<tr><td>fname: <br />lname: </td><td>Fields</td></tr>\n",
    "<tr><td>SAY <br />WHOAREYOU? </td><td>Methods</td></tr>\n",
    "</table>\n",
    "\n",
    "Instance:\n",
    "<table>\n",
    "<th>Person</th>\n",
    "<tr><td>fname: Deniz <br />lname: Yuret </td></tr>\n",
    "</table>"
   ]
  },
  {
   "cell_type": "markdown",
   "metadata": {},
   "source": [
    "### Calling Convention\n",
    "\n",
    "```scheme\n",
    "(ask <obj> <method> <args> ...)\n",
    "; e.g.\n",
    "(define dy (make-person 'deniz 'yuret))\n",
    "(ask dy 'whoareyou) ; => deniz\n",
    "(ask dy 'sat '(hello world)) ; => hello world\n",
    "```\n"
   ]
  },
  {
   "cell_type": "markdown",
   "metadata": {},
   "source": [
    "### Inheritance\n",
    "\n",
    "<table>\n",
    "<th>Person</th>\n",
    "<tr><td>fname: <br />lname: </td></tr>\n",
    "<tr><td>SAY <br />WHOAREYOU? </td></tr>\n",
    "</table>\n",
    "$$ \\uparrow $$\n",
    "<table>\n",
    "<th>Professor</th>\n",
    "<tr></tr>\n",
    "<tr><td>LECTURE <br />WHOAREYOU? </td></tr>\n",
    "</table>\n",
    "$$ \\uparrow $$\n",
    "<table>\n",
    "<th>Arrogant Professor</th>\n",
    "<tr></tr>\n",
    "<tr><td>SAY</td></tr>\n",
    "</table>\n",
    "\n",
    "```scheme\n",
    "(define e (make-prof 'eric 'grimson))\n",
    "(ask e 'say '(the sky is blue)) ; => the sky is blue\n",
    "(ask e 'WHOAREYOU?) ; => Professor grimson\n",
    "(ask e 'LECTURE '(the sky is blue))\n",
    "; => Therefore the sky is blue\n",
    "```\n",
    "```scheme\n",
    "(define ap (make-arrogant-prof 'Hal 'Abelson))\n",
    "(ask ap 'SAY '(the sky is blue))\n",
    "; => the sky is blue obviously\n",
    "```"
   ]
  },
  {
   "cell_type": "markdown",
   "metadata": {},
   "source": [
    "**Question: ** What happens if\n",
    "```scheme\n",
    "(ask ap 'LECTURE '(the sky is blue))\n",
    "```\n",
    "will we get `obviously` or not ?\n",
    "\n",
    "**Question: ** How to implement `this`, `super`, etc."
   ]
  },
  {
   "cell_type": "markdown",
   "metadata": {},
   "source": [
    "### Multiple Inheritance\n",
    "\n",
    "<table>\n",
    "<th>Singer</th>\n",
    "<tr></tr>\n",
    "<tr><td>SAY <br/> SING</td></tr>\n",
    "</table>\n",
    "\n",
    "$$ \\uparrow $$\n",
    "<table>\n",
    "<th>Singing Arrogant Professor</th>\n",
    "<tr></tr>\n",
    "<tr></tr>\n",
    "</table>\n",
    "\n",
    "$$ \\downarrow $$\n",
    "<table>\n",
    "<th>Arrogant Professor</th>\n",
    "<tr></tr>\n",
    "<tr><td>SAY</td></tr>\n",
    "</table>\n",
    "$$ \\downarrow $$\n",
    "$$ \\text{...} $$\n"
   ]
  },
  {
   "cell_type": "code",
   "execution_count": 30,
   "metadata": {
    "collapsed": true
   },
   "outputs": [],
   "source": [
    "(define (make-person fname lname)\n",
    "  (lambda (message)\n",
    "    (cond ((eq? message 'WHOAREYOU) (lambda () fname))\n",
    "          ((eq? message 'CHANGE-MY-NAME)\n",
    "           (lambda (new-name) (set! fname new-name)))\n",
    "          ((eq? message 'SAY)\n",
    "           (lambda (list-of-stuff)\n",
    "             (display list-of-stuff)\n",
    "             'NUF-SAID))\n",
    "          (else (no-method)))))"
   ]
  },
  {
   "cell_type": "code",
   "execution_count": 2,
   "metadata": {
    "collapsed": true
   },
   "outputs": [],
   "source": [
    "(define (ask obj method . args)\n",
    "  (apply (obj method) args))"
   ]
  },
  {
   "cell_type": "code",
   "execution_count": 9,
   "metadata": {},
   "outputs": [
    {
     "name": "stdout",
     "output_type": "stream",
     "text": [
      "deniz\n",
      "deniz2\n",
      "(the sky is blue)"
     ]
    },
    {
     "data": {
      "text/plain": [
       "NUF-SAID"
      ]
     },
     "execution_count": 9,
     "metadata": {},
     "output_type": "execute_result"
    }
   ],
   "source": [
    "(define dy (make-person 'deniz 'yuret))\n",
    "(display (ask dy 'WHOAREYOU)) (newline)\n",
    "(ask dy 'CHANGE-MY-NAME 'deniz2)\n",
    "(display (ask dy 'WHOAREYOU)) (newline)\n",
    "\n",
    "(ask dy 'SAY '(the sky is blue))"
   ]
  },
  {
   "cell_type": "code",
   "execution_count": 21,
   "metadata": {
    "collapsed": true
   },
   "outputs": [],
   "source": [
    "(define (get-method message object)\n",
    "  (object message))\n",
    "\n",
    "(define (ask object message . args)\n",
    "  (let ((method (get-method message object)))\n",
    "    (cond ((method? method) (apply method args))\n",
    "          (else (error \"No method for message\" message)))))"
   ]
  },
  {
   "cell_type": "code",
   "execution_count": 23,
   "metadata": {},
   "outputs": [
    {
     "name": "stdout",
     "output_type": "stream",
     "text": [
      "deniz\n",
      "deniz2\n",
      "(the sky is blue)"
     ]
    },
    {
     "data": {
      "text/plain": [
       "NUF-SAID"
      ]
     },
     "execution_count": 23,
     "metadata": {},
     "output_type": "execute_result"
    }
   ],
   "source": [
    "(define (method? method) #t)\n",
    "\n",
    "(define dy (make-person 'deniz 'yuret))\n",
    "(display (ask dy 'WHOAREYOU)) (newline)\n",
    "(ask dy 'CHANGE-MY-NAME 'deniz2)\n",
    "(display (ask dy 'WHOAREYOU)) (newline)\n",
    "\n",
    "(ask dy 'SAY '(the sky is blue))"
   ]
  },
  {
   "cell_type": "code",
   "execution_count": 31,
   "metadata": {},
   "outputs": [
    {
     "name": "stdout",
     "output_type": "stream",
     "text": [
      "deniz\n",
      "deniz2\n",
      "(the sky is blue)\n"
     ]
    },
    {
     "name": "stderr",
     "output_type": "stream",
     "text": [
      "\u001b[1;31m\n",
      "Traceback (most recent call last):\n",
      "  File \"In [31]\", line 14, col 1, in 'ask'\n",
      "  File \"In [21]\", line 5, col 3, in 'let'\n",
      "  File \"In [21]\", line 7, col 17, in 'error'\n",
      "  File \"In [21]\", line 7, col 17\n",
      "RunTimeError: Error in 'No method for message': \n",
      "\n",
      "\u001b[0m"
     ]
    }
   ],
   "source": [
    "(define (method? x) \n",
    "  (cond ((procedure? x) #t)\n",
    "        ((eq? x (no-method)) #f)\n",
    "        (else (error \"Object returned non-message\" x))))\n",
    "(define (no-method) `NO-METHOD)\n",
    "\n",
    "(define dy (make-person 'deniz 'yuret))\n",
    "(display (ask dy 'WHOAREYOU)) (newline)\n",
    "(ask dy 'CHANGE-MY-NAME 'deniz2)\n",
    "(display (ask dy 'WHOAREYOU)) (newline)\n",
    "\n",
    "(ask dy 'SAY '(the sky is blue)) (newline)\n",
    "\n",
    "(ask dy 'SOME-NON-EXISTING-METHOD)"
   ]
  },
  {
   "cell_type": "markdown",
   "metadata": {},
   "source": [
    "### `self`"
   ]
  },
  {
   "cell_type": "code",
   "execution_count": 42,
   "metadata": {},
   "outputs": [
    {
     "data": {
      "text/plain": [
       "deniz"
      ]
     },
     "execution_count": 42,
     "metadata": {},
     "output_type": "execute_result"
    }
   ],
   "source": [
    "(define (make-person fname lname)\n",
    "  (lambda (message)\n",
    "    (cond ((eq? message 'WHOAREYOU) (lambda (self) fname))\n",
    "          ((eq? message 'CHANGE-MY-NAME)\n",
    "           (lambda (self new-name) \n",
    "             (set! fname new-name)\n",
    "             (ask self 'SAY (list 'Call 'me fname))))\n",
    "          ((eq? message 'SAY)\n",
    "           (lambda (self list-of-stuff)\n",
    "             (display list-of-stuff)\n",
    "             'NUF-SAID))\n",
    "          (else (no-method)))))\n",
    "\n",
    "(define (ask object message . args)\n",
    "  (let ((method (get-method message object)))\n",
    "    (cond ((method? method) (apply method (cons object args)))\n",
    "          (else (error \"No method for message\" message)))))\n",
    "\n",
    "(define dy (make-person 'deniz 'yuret))\n",
    "(ask dy 'WHOAREYOU)"
   ]
  },
  {
   "cell_type": "code",
   "execution_count": 43,
   "metadata": {},
   "outputs": [
    {
     "name": "stdout",
     "output_type": "stream",
     "text": [
      "(Call me deniz2)"
     ]
    },
    {
     "data": {
      "text/plain": [
       "NUF-SAID"
      ]
     },
     "execution_count": 43,
     "metadata": {},
     "output_type": "execute_result"
    }
   ],
   "source": [
    "(ask dy 'CHANGE-MY-NAME 'deniz2)"
   ]
  },
  {
   "cell_type": "code",
   "execution_count": 44,
   "metadata": {},
   "outputs": [
    {
     "data": {
      "text/plain": [
       "deniz2"
      ]
     },
     "execution_count": 44,
     "metadata": {},
     "output_type": "execute_result"
    }
   ],
   "source": [
    "(ask dy 'WHOAREYOU)"
   ]
  },
  {
   "cell_type": "markdown",
   "metadata": {},
   "source": [
    "### Type"
   ]
  },
  {
   "cell_type": "code",
   "execution_count": 50,
   "metadata": {},
   "outputs": [
    {
     "name": "stdout",
     "output_type": "stream",
     "text": [
      "True\n",
      "False\n"
     ]
    }
   ],
   "source": [
    "(define (make-person fname lname)\n",
    "  (lambda (message)\n",
    "    (cond ((eq? message 'WHOAREYOU) (lambda (self) fname))\n",
    "          ((eq? message 'CHANGE-MY-NAME)\n",
    "           (lambda (self new-name) \n",
    "             (set! fname new-name)\n",
    "             (ask self 'SAY (list 'Call 'me fname))))\n",
    "          ((eq? message 'SAY)\n",
    "           (lambda (self list-of-stuff)\n",
    "             (display list-of-stuff)\n",
    "             'NUF-SAID))\n",
    "          ((eq? message 'PERSON?)\n",
    "           (lambda (self) #t))\n",
    "          (else (no-method)))))\n",
    "\n",
    "; Without this, ask someone 'projessor will give an error instead of #f\n",
    "(define (is-a object type-pred)\n",
    "  (cond ((not (procedure? object)) #f)\n",
    "        (else \n",
    "         (let ((method (get-method type-pred object)))\n",
    "           (cond ((method? method) (method))\n",
    "                 (else #f))))))\n",
    "\n",
    "(define dy (make-person 'deniz 'yuret))\n",
    "(display (is-a dy 'PERSON?)) (newline)\n",
    "(display (is-a dy 'PROFESSOR?)) (newline)\n"
   ]
  },
  {
   "cell_type": "code",
   "execution_count": null,
   "metadata": {
    "collapsed": true
   },
   "outputs": [],
   "source": []
  }
 ],
 "metadata": {
  "kernelspec": {
   "display_name": "Calysto Scheme 3",
   "language": "scheme",
   "name": "calysto_scheme"
  },
  "language_info": {
   "codemirror_mode": {
    "name": "scheme"
   },
   "mimetype": "text/x-scheme",
   "name": "scheme",
   "pygments_lexer": "scheme"
  }
 },
 "nbformat": 4,
 "nbformat_minor": 2
}
