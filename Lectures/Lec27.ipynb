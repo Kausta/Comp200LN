{
 "cells": [
  {
   "cell_type": "markdown",
   "metadata": {},
   "source": [
    "# Lec27 `#19/12`\n",
    "\n",
    "## Compilation"
   ]
  },
  {
   "cell_type": "markdown",
   "metadata": {},
   "source": [
    "### ec-eval -> compile-eval\n",
    "\n",
    "**Basic Idea**: Saving the executions that would have been runned by ec-eval to store them, however this happens to be slow (as expected), and it needs to be optimized\n",
    "\n",
    "*Same register set*"
   ]
  },
  {
   "cell_type": "markdown",
   "metadata": {},
   "source": [
    "### Watching ec-eval of (f x) :\n",
    "\n",
    "```scheme\n",
    "; Prepare to eval operator (save env, operands, continue)\n",
    "(save continue)\n",
    "(save env)\n",
    "(assign unev (op operands) (reg exp))\n",
    "(save unev)\n",
    "; Figure out what operator is\n",
    "(assign exp (op operands) (reg exp))\n",
    "(assign continue (label ev-appl-did-operator))\n",
    "(goto (label eval-dispatch))\n",
    "(test (op self-evaluating?) (reg exp))\n",
    "(branch (label ev-self-eval))\n",
    "(test (op variable?) (reg exp))\n",
    "; It's a variable, so look up\n",
    "(branch (label ev-variable))\n",
    "(assign val (op lookup-variable-value) (reg exp) (reg env))\n",
    "(goto (reg continue))\n",
    "; ev-appl-did-operator\n",
    "(restore unev)\n",
    "(restore env)\n",
    "(assign argl (op empty-arglist))\n",
    "; Store operator in proc\n",
    "(assign proc (reg val))\n",
    "(test (op no-operands?) (reg unev))\n",
    "; Branch is never taken\n",
    "(branch (label apply-dispatch))\n",
    "; Eval each of the operands\n",
    "(save proc)\n",
    "(save argl)\n",
    "(assign exp (op first-operand) (reg unev))\n",
    "(test (op) (last-operand?) (reg unev))\n",
    "(branch (label ev-appl-last-arg))\n",
    "(assign continue (label ev-appl-accum-last-arg))\n",
    "; Figure out how to eval first operand\n",
    "(goto (label eval-dispatch))\n",
    "(test (op self-evaluating?) (reg exp))\n",
    "(branch (label ev-self-eval))\n",
    "(test (op variable?) (reg exp))\n",
    "(branch (label ev-variable))\n",
    "(assign val (op lookup-variable-value) (reg exp) (reg env))\n",
    "; Goto accum-last-arg\n",
    "(goto (reg continue))\n",
    "; Add to arg list\n",
    "(restore argl)\n",
    "(assign argl (op adjoin-arg) (reg val) (reg argl))\n",
    "(restore proc)\n",
    "; Have proc and argl, ready to apply\n",
    "; Computation proceeds at apply-dispatch\n",
    "```"
   ]
  },
  {
   "cell_type": "markdown",
   "metadata": {},
   "source": [
    "Then the unnecessary operations are removed (iteratively): \n",
    "\n",
    "```scheme\n",
    "; Prepare to eval operator (save env, operands, continue)\n",
    ";; (save continue)\n",
    ";; (save env)\n",
    ";; (assign unev (op operands) (reg exp))\n",
    ";; (save unev)\n",
    "; Figure out what operator is\n",
    ";; (assign exp (op operands) (reg exp))\n",
    "#|\n",
    "(assign continue (label ev-appl-did-operator))\n",
    "(goto (label eval-dispatch))\n",
    "(test (op self-evaluating?) (reg exp))\n",
    "(branch (label ev-self-eval))\n",
    "(test (op variable?) (reg exp))\n",
    "; It's a variable, so look up\n",
    "(branch (label ev-variable))\n",
    "(assign val (op lookup-variable-value) (reg exp) (reg env))\n",
    "|#\n",
    "; Change to const f\n",
    ";;(assign val (op lookup-variable-value) (const f) (reg env))\n",
    "; Assign to proc directly\n",
    "(assign proc (op lookup-variable-value) (const f) (reg env))\n",
    ";; (goto (reg continue))\n",
    "; ev-appl-did-operator\n",
    ";; (restore unev)\n",
    ";; (restore env)\n",
    ";; (assign argl (op empty-arglist))\n",
    "; Store operator in proc\n",
    ";; (assign proc (reg val))\n",
    ";; (test (op no-operands?) (reg unev))\n",
    "; Branch is never taken\n",
    ";; (branch (label apply-dispatch))\n",
    "; Eval each of the operands\n",
    ";; (save proc)\n",
    ";; (save argl)\n",
    ";; (assign exp (op first-operand) (reg unev))\n",
    "#|\n",
    "(test (op) (last-operand?) (reg unev))\n",
    "(branch (label ev-appl-last-arg))\n",
    "(assign continue (label ev-appl-accum-last-arg))\n",
    "; Figure out how to eval first operand\n",
    "(goto (label eval-dispatch))\n",
    "(test (op self-evaluating?) (reg exp))\n",
    "(branch (label ev-self-eval))\n",
    "(test (op variable?) (reg exp))\n",
    "(branch (label ev-variable))\n",
    "(assign val (op lookup-variable-value) (reg exp) (reg env))\n",
    "|#\n",
    "(assign val (op lookup-variable-value) (const x) (reg env))\n",
    "; Goto accum-last-arg\n",
    ";; (goto (reg continue))\n",
    "; Add to arg list\n",
    ";; (restore argl)\n",
    ";; (assign argl (op adjoin-arg) (reg val) (reg argl))\n",
    "(assign argl (op list) (reg val))\n",
    ";; (restore proc)\n",
    "; Have proc and argl, ready to apply\n",
    "; Computation proceeds at apply-dispatch\n",
    "\n",
    "\n",
    "```"
   ]
  },
  {
   "cell_type": "markdown",
   "metadata": {},
   "source": [
    "`(f x)`, optimized as much as possible:\n",
    "\n",
    "```scheme\n",
    "; The above call\n",
    "(assign proc (op lookup-variable-value) (const f) (reg env))\n",
    "(assign val (op lookup-variable-value) (const x) (reg env))\n",
    "(assign argl (op list) (reg val))\n",
    "; Then <apply-dispatch> (optimized):\n",
    "(test (op primitive-procedure?) (reg proc))\n",
    "(branch (label primivite-branch9))\n",
    "compiled-branch8:\n",
    "(assign continue (label after-call7))\n",
    "(assign val (op compiled-procedure-entry) (reg proc))\n",
    "(goto (reg val))\n",
    "primitive-branch9:\n",
    "(assign val (op primitive-procedure-entry) (reg proc))\n",
    "after-call7:\n",
    "```"
   ]
  },
  {
   "cell_type": "markdown",
   "metadata": {},
   "source": []
  },
  {
   "cell_type": "code",
   "execution_count": null,
   "metadata": {
    "collapsed": true
   },
   "outputs": [],
   "source": []
  },
  {
   "cell_type": "code",
   "execution_count": null,
   "metadata": {
    "collapsed": true
   },
   "outputs": [],
   "source": []
  },
  {
   "cell_type": "code",
   "execution_count": null,
   "metadata": {
    "collapsed": true
   },
   "outputs": [],
   "source": []
  },
  {
   "cell_type": "code",
   "execution_count": null,
   "metadata": {
    "collapsed": true
   },
   "outputs": [],
   "source": []
  }
 ],
 "metadata": {
  "kernelspec": {
   "display_name": "Calysto Scheme 3",
   "language": "scheme",
   "name": "calysto_scheme"
  },
  "language_info": {
   "codemirror_mode": {
    "name": "scheme"
   },
   "mimetype": "text/x-scheme",
   "name": "scheme",
   "pygments_lexer": "scheme"
  }
 },
 "nbformat": 4,
 "nbformat_minor": 2
}
