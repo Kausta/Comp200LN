{
 "cells": [
  {
   "cell_type": "markdown",
   "metadata": {},
   "source": [
    "# Lec5 `#5/12`"
   ]
  },
  {
   "cell_type": "markdown",
   "metadata": {},
   "source": [
    "## Lazy Evaluation\n",
    "\n",
    "For **applicative order** evaluation, we had that:\n",
    "\n",
    "1. Eval subexpressions\n",
    "2. If primitive proc, just apply it\n",
    "3. If compound proc, eval body in new env which extends proc.env with new frame that binds proc params to arg vals\n",
    "\n",
    "In **lazy evaluation (normal order)**:\n",
    "\n",
    "- We apply proc to unevaluated argument subexpressions.\n",
    "- Eval a subexpression only when value is needed. \n",
    "  - to print\n",
    "  - primitive procedure (they are 'strict' in their args), e.g, \n",
    "  ```scheme\n",
    "  (foo (+ x y) (- x y))\n",
    "  ;------------------->   Evaluated in normal order\n",
    "  ;    ----->             Evaluated in applicative order, not normal order\n",
    "  ;            ------>    Evaluated in applicative order, not normal order\n",
    "  ```"
   ]
  },
  {
   "cell_type": "markdown",
   "metadata": {},
   "source": [
    "#### Exercise 1\n",
    "\n",
    "In applicative order:"
   ]
  },
  {
   "cell_type": "code",
   "execution_count": 1,
   "metadata": {},
   "outputs": [
    {
     "name": "stdout",
     "output_type": "stream",
     "text": [
      "eval arg\n",
      "inside foo\n"
     ]
    },
    {
     "data": {
      "text/plain": [
       "444"
      ]
     },
     "execution_count": 1,
     "metadata": {},
     "output_type": "execute_result"
    }
   ],
   "source": [
    "(define (foo x)\n",
    "  (display \"inside foo\") (newline) ; dbg\n",
    "  (+ x x))\n",
    "(foo (begin \n",
    "      (display \"eval arg\") (newline)  ; dbg\n",
    "      222))"
   ]
  },
  {
   "cell_type": "markdown",
   "metadata": {},
   "source": [
    "In lazy order (without caching):\n",
    "```\n",
    "inside foo\n",
    "eval arg\n",
    "eval arg\n",
    "444\n",
    "```"
   ]
  },
  {
   "cell_type": "markdown",
   "metadata": {},
   "source": [
    "### To Implement lazy eval:\n",
    "\n",
    "- Need \"delayed objects\"\n",
    "- Change eval to force evaluation only when needed\n",
    "\n",
    "\n",
    "- When is lazy eval useful ?"
   ]
  },
  {
   "cell_type": "markdown",
   "metadata": {},
   "source": [
    "### Representing delayed objects:\n",
    "\n",
    "- A thunk is a promise to return a value when needed (forced)\n",
    "  - --> [ thunk | -]-> [ exp | -]-> [ env | / ]"
   ]
  },
  {
   "cell_type": "markdown",
   "metadata": {},
   "source": [
    "```scheme\n",
    "(define (delay-it exp env)\n",
    "    (list 'thunk exp env))\n",
    "\n",
    "(define force-it obj)\n",
    "    (cond ((thunk? obj)\n",
    "           (actual-value (thunk-exp obj)\n",
    "                         (thunk-env obj)))\n",
    "          (else obj)))\n",
    "\n",
    "(define (actual-value exp env)\n",
    "    (force-it (eval exp env)))\n",
    "```"
   ]
  },
  {
   "cell_type": "markdown",
   "metadata": {},
   "source": [
    "#### Example\n",
    "\n",
    "```scheme\n",
    "(define a (delay-it '(+ 2 3) GE))\n",
    "; a : '(thunk (+ 2 3) GE)\n",
    "(force-it a) ; 5\n",
    "```"
   ]
  },
  {
   "cell_type": "markdown",
   "metadata": {},
   "source": [
    "### Changes in eval/apply for normal order:\n",
    "\n",
    "- `eval`:\n",
    "  - does not eval arguments\n",
    "  - needs to call apply with env\n",
    "- `apply`:\n",
    "  - eval args with supplied env if primitive procedure\n",
    "  - construct a list of delayed args if compound procedure"
   ]
  },
  {
   "cell_type": "markdown",
   "metadata": {},
   "source": [
    "### When is lazy-eval useful?\n",
    "\n",
    "- Cons now acts like cons-stream\n",
    "- `(foo (very-long-computation-1) (very-long-computation2))` may not need to do both calculations\n",
    "  - If only one is used, lazy is advantageous\n",
    "- `(foo (very-long-computation-3))` may use the arg more than ocne\n",
    "  - If the arg is used twice, then applicative is advantageous.\n",
    "  - Can be run fast in lazy with caching\n",
    "\n"
   ]
  },
  {
   "cell_type": "markdown",
   "metadata": {},
   "source": [
    "### Memoizing Thunks\n",
    "\n",
    "[thunk|-]->[exp|-]->[env|/]\n",
    "\n",
    "$ \\ \\ \\downarrow $\n",
    "\n",
    "[evaluated-thunk|-]->[result|/]\n",
    "\n",
    "\n",
    "\n"
   ]
  },
  {
   "cell_type": "markdown",
   "metadata": {},
   "source": []
  }
 ],
 "metadata": {
  "kernelspec": {
   "display_name": "Calysto Scheme 3",
   "language": "scheme",
   "name": "calysto_scheme"
  },
  "language_info": {
   "codemirror_mode": {
    "name": "scheme"
   },
   "mimetype": "text/x-scheme",
   "name": "scheme",
   "pygments_lexer": "scheme"
  }
 },
 "nbformat": 4,
 "nbformat_minor": 2
}
