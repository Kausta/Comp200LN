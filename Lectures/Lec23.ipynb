{
 "cells": [
  {
   "cell_type": "markdown",
   "metadata": {},
   "source": [
    "# Lec5 `#5/12`"
   ]
  },
  {
   "cell_type": "markdown",
   "metadata": {},
   "source": [
    "## Lazy Evaluation\n",
    "\n",
    "For **applicative order** evaluation, we had that:\n",
    "\n",
    "1. Eval subexpressions\n",
    "2. If primitive proc, just apply it\n",
    "3. If compound proc, eval body in new env which extends proc.env with new frame that binds proc params to arg vals\n",
    "\n",
    "In **lazy evaluation (normal order)**:\n",
    "\n",
    "- We apply proc to unevaluated argument subexpressions.\n",
    "- Eval a subexpression only when value is needed. \n",
    "  - to print\n",
    "  - primitive procedure (they are 'strict' in their args), e.g, \n",
    "  ```scheme\n",
    "  (foo (+ x y) (- x y))\n",
    "  ;------------------->   Evaluated in normal order\n",
    "  ;    ----->             Evaluated in applicative order, not normal order\n",
    "  ;            ------>    Evaluated in applicative order, not normal order\n",
    "  ```"
   ]
  },
  {
   "cell_type": "markdown",
   "metadata": {},
   "source": [
    "#### Exercise 1\n",
    "\n",
    "In applicative order:"
   ]
  },
  {
   "cell_type": "code",
   "execution_count": 4,
   "metadata": {},
   "outputs": [
    {
     "name": "stdout",
     "output_type": "stream",
     "text": [
      "eval arg\n",
      "inside foo\n"
     ]
    },
    {
     "data": {
      "text/plain": [
       "444"
      ]
     },
     "execution_count": 4,
     "metadata": {},
     "output_type": "execute_result"
    }
   ],
   "source": [
    "(define (foo x)\n",
    "  (display \"inside foo\") (newline) ; dbg\n",
    "  (+ x x))\n",
    "(foo (begin \n",
    "      (display \"eval arg\") (newline)  ; dbg\n",
    "      222))"
   ]
  },
  {
   "cell_type": "markdown",
   "metadata": {},
   "source": [
    "In lazy order (without caching):\n",
    "```\n",
    "inside foo\n",
    "eval arg\n",
    "eval arg\n",
    "444\n",
    "```"
   ]
  },
  {
   "cell_type": "code",
   "execution_count": null,
   "metadata": {
    "collapsed": true
   },
   "outputs": [],
   "source": []
  },
  {
   "cell_type": "code",
   "execution_count": null,
   "metadata": {
    "collapsed": true
   },
   "outputs": [],
   "source": []
  },
  {
   "cell_type": "code",
   "execution_count": null,
   "metadata": {
    "collapsed": true
   },
   "outputs": [],
   "source": []
  },
  {
   "cell_type": "code",
   "execution_count": null,
   "metadata": {
    "collapsed": true
   },
   "outputs": [],
   "source": []
  },
  {
   "cell_type": "code",
   "execution_count": null,
   "metadata": {
    "collapsed": true
   },
   "outputs": [],
   "source": []
  },
  {
   "cell_type": "code",
   "execution_count": null,
   "metadata": {
    "collapsed": true
   },
   "outputs": [],
   "source": []
  },
  {
   "cell_type": "code",
   "execution_count": null,
   "metadata": {
    "collapsed": true
   },
   "outputs": [],
   "source": []
  }
 ],
 "metadata": {
  "kernelspec": {
   "display_name": "Calysto Scheme 3",
   "language": "scheme",
   "name": "calysto_scheme"
  },
  "language_info": {
   "codemirror_mode": {
    "name": "scheme"
   },
   "mimetype": "text/x-scheme",
   "name": "scheme",
   "pygments_lexer": "scheme"
  }
 },
 "nbformat": 4,
 "nbformat_minor": 2
}
