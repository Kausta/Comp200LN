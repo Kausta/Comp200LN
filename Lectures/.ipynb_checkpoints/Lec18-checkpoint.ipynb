{
 "cells": [
  {
   "cell_type": "markdown",
   "metadata": {},
   "source": [
    "# Lec18 `#16/11`\n",
    "\n",
    "## OOP"
   ]
  },
  {
   "cell_type": "markdown",
   "metadata": {},
   "source": [
    "### Inheritance: via Internal Objects"
   ]
  },
  {
   "cell_type": "code",
   "execution_count": 9,
   "metadata": {
    "collapsed": true
   },
   "outputs": [],
   "source": [
    "(define (make-prof fname lname) ; Subclass\n",
    "  (let ((int-person (make-person fname lname))) ; Superclass\n",
    "    (lambda (msg)\n",
    "      (case msg \n",
    "            ((LECTURE) \n",
    "             (lambda (self args) \n",
    "               (ask self 'SAY (cons 'Therefore args))))\n",
    "            ((WHOAREYOU)\n",
    "             (lambda (self)\n",
    "               (display 'Professor)\n",
    "               (ask self 'WHOAREYOU)))\n",
    "            (else (get-method msg int-person)))\n",
    "  )))"
   ]
  },
  {
   "cell_type": "code",
   "execution_count": 2,
   "metadata": {
    "collapsed": true
   },
   "outputs": [],
   "source": [
    "(define (ask object message . args)\n",
    "  (let ((method (get-method message object)))\n",
    "    (cond ((method? method) (apply method (cons object args)))\n",
    "          (else (error \"No method for message\" message)))))\n",
    "\n",
    "(define (method? x) \n",
    "  (cond ((procedure? x) #t)\n",
    "        ((eq? x (no-method)) #f)\n",
    "        (else (error \"Object returned non-message\" x))))\n",
    "(define (no-method) `NO-METHOD)\n",
    "\n",
    "(define (get-method message object)\n",
    "  (object message))\n",
    "\n",
    "(define (make-person fname lname)\n",
    "  (lambda (message)\n",
    "    (cond ((eq? message 'WHOAREYOU) (lambda (self) fname))\n",
    "          ((eq? message 'CHANGE-MY-NAME)\n",
    "           (lambda (self new-name) \n",
    "             (set! fname new-name)\n",
    "             (ask self 'SAY (list 'Call 'me fname))))\n",
    "          ((eq? message 'SAY)\n",
    "           (lambda (self list-of-stuff)\n",
    "             (display list-of-stuff)\n",
    "             'NUF-SAID))\n",
    "          ((eq? message 'PERSON?)\n",
    "           (lambda (self) #t))\n",
    "          (else (no-method)))))"
   ]
  },
  {
   "cell_type": "code",
   "execution_count": 10,
   "metadata": {},
   "outputs": [
    {
     "name": "stdout",
     "output_type": "stream",
     "text": [
      "(the sky is blue)\n",
      "(Therefore the sky is blue)\n"
     ]
    }
   ],
   "source": [
    "(define e (make-prof 'eric 'grimson))\n",
    "\n",
    "(ask e 'SAY '(the sky is blue)) (newline)\n",
    "(ask e 'LECTURE '(the sky is blue)) (newline)"
   ]
  },
  {
   "cell_type": "markdown",
   "metadata": {},
   "source": [
    "### Multiple Inheritance\n",
    "\n",
    "Class diagram for : `Person` $ \\leftarrow $ `Prof` $ \\leftarrow $ `Arrogant Prof` $ \\leftarrow $ `S.A.P.` $ \\rightarrow $ `Singer`\n",
    "\n",
    "`Arrogant Prof` and `Singer` has `SAY` method, so `S.A.P.` will call which ? (Design choice)"
   ]
  },
  {
   "cell_type": "code",
   "execution_count": null,
   "metadata": {
    "collapsed": true
   },
   "outputs": [],
   "source": []
  },
  {
   "cell_type": "code",
   "execution_count": null,
   "metadata": {
    "collapsed": true
   },
   "outputs": [],
   "source": []
  },
  {
   "cell_type": "code",
   "execution_count": null,
   "metadata": {
    "collapsed": true
   },
   "outputs": [],
   "source": []
  }
 ],
 "metadata": {
  "kernelspec": {
   "display_name": "Calysto Scheme 3",
   "language": "scheme",
   "name": "calysto_scheme"
  },
  "language_info": {
   "codemirror_mode": {
    "name": "scheme"
   },
   "mimetype": "text/x-scheme",
   "name": "scheme",
   "pygments_lexer": "scheme"
  }
 },
 "nbformat": 4,
 "nbformat_minor": 2
}
