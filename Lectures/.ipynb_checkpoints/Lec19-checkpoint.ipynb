{
 "cells": [
  {
   "cell_type": "markdown",
   "metadata": {},
   "source": [
    "# Lec19 `#21/11`\n",
    "\n",
    "## Streams\n",
    "\n",
    "List like objects whose cdr has \"delayed evaluation\"."
   ]
  },
  {
   "cell_type": "markdown",
   "metadata": {},
   "source": [
    "- **Stream-cons**: like regular cons, but **the cdr part is not evaluated**\n",
    "- stream-car, stream-cdr: like car,cdr\n",
    "- Comparison with OOP as an alternative programming paradigm"
   ]
  },
  {
   "cell_type": "markdown",
   "metadata": {},
   "source": [
    "### It doesn't work well with calysto, so look to [Lec19 Source](../src/Lec19.rkt)"
   ]
  },
  {
   "cell_type": "markdown",
   "metadata": {},
   "source": [
    "```scheme\n",
    "(define x (s-cons 99 (/ 1 0)))\n",
    "(s-car x)\n",
    "; Doesn't give error until this line\n",
    "(s-car (s-cdr x))\n",
    "```"
   ]
  },
  {
   "cell_type": "markdown",
   "metadata": {},
   "source": [
    "```scheme\n",
    "; Exercise 1\n",
    "; Slow, since it calculates for all elements\n",
    "(list-ref (filter prime? (enum-interval 1 100000)) 99)\n",
    "; Lazy, only evaluates the required ones\n",
    "(stream-ref (stream-filter prime? (stream-interval 1 100000)) 99)\n",
    "```"
   ]
  },
  {
   "cell_type": "markdown",
   "metadata": {},
   "source": [
    "- Above, stream-filter only calculates 1'th prime when requested\n",
    "- 2nd prime when it's requested, etc.\n",
    "- So when 100'th element is requested, it only calculates until it find 100 primes"
   ]
  },
  {
   "cell_type": "markdown",
   "metadata": {},
   "source": [
    "Stream Interval:\n",
    "\n",
    "```scheme\n",
    "(define (s-interval a b)\n",
    "    (if (> a b) \n",
    "        the-empty-stream\n",
    "        (s-cons a (s-interval (+ a 1) b))))\n",
    "```\n",
    "\n",
    "Stream Filter:\n",
    "\n",
    "```scheme\n",
    "(define (s-filter pred str)\n",
    "    (if (pred (s-car str))\n",
    "        (s-cons (s-car str)\n",
    "                (s-filter pred (s-cdr str)))\n",
    "        (s-filter pred (s-cdr str))))\n",
    "```\n",
    "Doesn't calculate the s-filter in the cdr until it's required"
   ]
  },
  {
   "cell_type": "markdown",
   "metadata": {},
   "source": [
    "### Infinite Data Structures\n",
    "\n",
    "```scheme\n",
    "(define ones (s-cons 1 ones))\n",
    "; ones: 1 1 1 1 1 ...\n",
    "; Regular cons doesnt work because 'ones' is not defined yet\n",
    "; (define ones (cons 1 ones))\n",
    "```\n"
   ]
  },
  {
   "cell_type": "markdown",
   "metadata": {},
   "source": [
    "** Look to the source file! **\n",
    "\n",
    "(Exercise 2: ints)"
   ]
  },
  {
   "cell_type": "markdown",
   "metadata": {},
   "source": [
    "### Sieve\n",
    "(Sieve of Eratosthenes)\n",
    "\n",
    "(Exercise 3: Implement using streams)"
   ]
  },
  {
   "cell_type": "markdown",
   "metadata": {},
   "source": []
  },
  {
   "cell_type": "markdown",
   "metadata": {},
   "source": []
  },
  {
   "cell_type": "markdown",
   "metadata": {},
   "source": []
  }
 ],
 "metadata": {
  "kernelspec": {
   "display_name": "Calysto Scheme 3",
   "language": "scheme",
   "name": "calysto_scheme"
  },
  "language_info": {
   "codemirror_mode": {
    "name": "scheme"
   },
   "mimetype": "text/x-scheme",
   "name": "scheme",
   "pygments_lexer": "scheme"
  }
 },
 "nbformat": 4,
 "nbformat_minor": 2
}
