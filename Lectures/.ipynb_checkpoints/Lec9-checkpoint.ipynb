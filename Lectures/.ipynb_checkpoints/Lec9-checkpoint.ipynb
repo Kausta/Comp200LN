{
 "cells": [
  {
   "cell_type": "markdown",
   "metadata": {},
   "source": [
    "# Lec9 `#17/10/17`"
   ]
  },
  {
   "cell_type": "markdown",
   "metadata": {},
   "source": [
    "## Examples"
   ]
  },
  {
   "cell_type": "markdown",
   "metadata": {},
   "source": [
    "### Box and Pointer Examples\n",
    "\n",
    "Trivial examples of scheme representation, box and pointer diagram, and printed representation."
   ]
  },
  {
   "cell_type": "markdown",
   "metadata": {},
   "source": [
    "### HOP Examples\n"
   ]
  },
  {
   "cell_type": "markdown",
   "metadata": {},
   "source": [
    "```scheme \n",
    "(define f (multiplier 3))\n",
    "(f 5) ; 15\n",
    "(f 3) ; 9\n",
    "```\n",
    "Type of multiplier: Number -> (Number -> Number)\n",
    "\n",
    "Type of f: Number -> Number\n"
   ]
  },
  {
   "cell_type": "code",
   "execution_count": 1,
   "metadata": {},
   "outputs": [
    {
     "data": {
      "text/plain": [
       "15"
      ]
     },
     "execution_count": 1,
     "metadata": {},
     "output_type": "execute_result"
    }
   ],
   "source": [
    "(define (multiplier n)\n",
    "  (lambda (x) (* x n)))\n",
    "(define f (multiplier 3))\n",
    "(f 5)"
   ]
  },
  {
   "cell_type": "code",
   "execution_count": 13,
   "metadata": {},
   "outputs": [
    {
     "data": {
      "text/plain": [
       "12"
      ]
     },
     "execution_count": 13,
     "metadata": {},
     "output_type": "execute_result"
    }
   ],
   "source": [
    "(define (repeated f n)\n",
    "  (lambda (x) \n",
    "    (if (= n 0)\n",
    "        x\n",
    "        (f ((repeated f (- n 1)) x))\n",
    "        )))\n",
    "(define (mul a b)\n",
    "  ((repeated (lambda (x) (+ x a)) b) 0))\n",
    "(mul 3 4)"
   ]
  },
  {
   "cell_type": "code",
   "execution_count": 14,
   "metadata": {},
   "outputs": [
    {
     "data": {
      "text/plain": [
       "16"
      ]
     },
     "execution_count": 14,
     "metadata": {},
     "output_type": "execute_result"
    }
   ],
   "source": [
    "(define (exp a b)\n",
    "  ((repeated (lambda (x) (* x a)) b) 1))\n",
    "(exp 2 4)"
   ]
  },
  {
   "cell_type": "markdown",
   "metadata": {},
   "source": [
    "### Rational Numbers "
   ]
  },
  {
   "cell_type": "markdown",
   "metadata": {},
   "source": [
    "#### Interface\n",
    "\n",
    "```scheme\n",
    "(make-rat n d) ; Rational Number Object\n",
    "(numer obj)    ; n\n",
    "(denom obj)    ; d\n",
    "```"
   ]
  },
  {
   "cell_type": "code",
   "execution_count": 24,
   "metadata": {
    "collapsed": true
   },
   "outputs": [],
   "source": [
    "(define (+rat x y) ; x, y are rational numbers\n",
    "    (make-rat (+ (* (numer x) (denom y)) \n",
    "                 (* (numer y) (denom x)))\n",
    "              (* (denom x) (denom y))))"
   ]
  },
  {
   "cell_type": "code",
   "execution_count": 19,
   "metadata": {
    "collapsed": true
   },
   "outputs": [],
   "source": [
    "(define (*rat x y)\n",
    "    (make-rat (* (numer x) (numer y))\n",
    "              (* (denom x) (denom y))))"
   ]
  },
  {
   "cell_type": "markdown",
   "metadata": {},
   "source": [
    "#### Implementation 1\n",
    "\n",
    "- Cons \n",
    "- Car\n",
    "- Cdr"
   ]
  },
  {
   "cell_type": "markdown",
   "metadata": {},
   "source": [
    "#### Implementation 2\n",
    "\n",
    "- List\n",
    "- Car\n",
    "- Cadr"
   ]
  },
  {
   "cell_type": "code",
   "execution_count": 30,
   "metadata": {},
   "outputs": [],
   "source": [
    "(define (make-rat x y) (cons x y))\n",
    "(define (numer x) (car x))\n",
    "(define (denom x) (cdr x))"
   ]
  },
  {
   "cell_type": "code",
   "execution_count": 31,
   "metadata": {},
   "outputs": [
    {
     "name": "stdout",
     "output_type": "stream",
     "text": [
      "6\n",
      "8"
     ]
    }
   ],
   "source": [
    "(define a (make-rat 1 2))\n",
    "(define b (make-rat 1 4))\n",
    "(define c (+rat a b))\n",
    "(display (numer c)) (newline)\n",
    "(display (denom c))"
   ]
  },
  {
   "cell_type": "markdown",
   "metadata": {},
   "source": [
    "#### Simplification"
   ]
  },
  {
   "cell_type": "code",
   "execution_count": 39,
   "metadata": {},
   "outputs": [],
   "source": [
    "(define (gcd a b) \n",
    "  (if (= a 0)\n",
    "      b\n",
    "      (gcd (% b a) a)))"
   ]
  },
  {
   "cell_type": "code",
   "execution_count": 41,
   "metadata": {
    "collapsed": true
   },
   "outputs": [],
   "source": [
    "(define (make-rat x y) \n",
    "  (cons (/ x (gcd x y))\n",
    "        (/ y (gcd x y))))"
   ]
  },
  {
   "cell_type": "code",
   "execution_count": 42,
   "metadata": {},
   "outputs": [
    {
     "name": "stdout",
     "output_type": "stream",
     "text": [
      "3\n",
      "4"
     ]
    }
   ],
   "source": [
    "(define c (+rat a b))\n",
    "(display (numer c)) (newline)\n",
    "(display (denom c))"
   ]
  },
  {
   "cell_type": "code",
   "execution_count": 43,
   "metadata": {
    "collapsed": true
   },
   "outputs": [],
   "source": [
    "(define (make-rat x y) (cons x y))\n",
    "(define (numer x) (/ (car x) (gcd (car x) (cdr x))))\n",
    "(define (denom x) (/ (cdr x) (gcd (car x) (cdr x))))"
   ]
  },
  {
   "cell_type": "code",
   "execution_count": 44,
   "metadata": {},
   "outputs": [
    {
     "name": "stdout",
     "output_type": "stream",
     "text": [
      "3\n",
      "4"
     ]
    }
   ],
   "source": [
    "(define c (+rat a b))\n",
    "(display (numer c)) (newline)\n",
    "(display (denom c))"
   ]
  }
 ],
 "metadata": {
  "kernelspec": {
   "display_name": "Calysto Scheme 3",
   "language": "scheme",
   "name": "calysto_scheme"
  },
  "language_info": {
   "codemirror_mode": {
    "name": "scheme"
   },
   "mimetype": "text/x-scheme",
   "name": "scheme",
   "pygments_lexer": "scheme"
  }
 },
 "nbformat": 4,
 "nbformat_minor": 2
}
