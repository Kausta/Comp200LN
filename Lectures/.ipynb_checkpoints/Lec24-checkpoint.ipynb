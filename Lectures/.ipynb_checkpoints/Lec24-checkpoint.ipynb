{
 "cells": [
  {
   "cell_type": "markdown",
   "metadata": {},
   "source": [
    "# Lec24 `#7/12`\n",
    "\n",
    "## Register Machines"
   ]
  },
  {
   "cell_type": "markdown",
   "metadata": {},
   "source": [
    "Scheme Code"
   ]
  },
  {
   "cell_type": "code",
   "execution_count": 1,
   "metadata": {
    "collapsed": true
   },
   "outputs": [],
   "source": [
    "(define (gcd a b)\n",
    "  (if (= b 0) a\n",
    "      (gcd b (rem a b))))"
   ]
  },
  {
   "cell_type": "markdown",
   "metadata": {},
   "source": [
    "#### Example:\n",
    "\n",
    "<table>\n",
    "<tr><th>a</th><th>b</th></tr>\n",
    "<tr><td>48</td><td>30</td></tr>\n",
    "<tr><td>30</td><td>18</td></tr>\n",
    "<tr><td>18</td><td>12</td></tr>\n",
    "<tr><td>12</td><td>6</td></tr>\n",
    "<tr><td>6</td><td>0</td></tr>\n",
    "</table>"
   ]
  },
  {
   "cell_type": "markdown",
   "metadata": {},
   "source": [
    "#### Example: Register Machine\n",
    "\n",
    "<img src=\"img/img_reg_machine.jpg\" width=\"500\"></img>"
   ]
  },
  {
   "cell_type": "markdown",
   "metadata": {},
   "source": [
    "#### Exercise 1\n",
    "\n",
    "- Push Buttons XYZ s.t. $ 48, 30 \\rightarrow 6 $\n",
    "\n",
    "$$ Y \\rightarrow X \\rightarrow Z \\rightarrow Y \\rightarrow X \\rightarrow Z \\rightarrow Y \\rightarrow X \\rightarrow Z \\rightarrow Y \\rightarrow X \\rightarrow Z $$\n",
    "\n",
    "- Answer at a = 6"
   ]
  },
  {
   "cell_type": "markdown",
   "metadata": {},
   "source": [
    "### Example Instructions\n",
    "\n",
    "```scheme\n",
    "; test-b -> Label\n",
    "test-b: (test (op =) (reg b) (const 0))\n",
    "        (branch (label done))\n",
    "        (assign t (op rem) (reg a) (reg b)) ; Push Y\n",
    "        (assign a (reg b)) ; Push X\n",
    "        (assign b (reg t)) ; Push Z\n",
    "        (goto (label test-b))\n",
    "done:\n",
    "```"
   ]
  },
  {
   "cell_type": "markdown",
   "metadata": {},
   "source": [
    "### Register Machine Operations\n",
    "\n",
    "- Labels indicate line numbers in program\n",
    "- **test**: Applies a test and puts the result in a condition register\n",
    "  - `test`\n",
    "- **assign**: Transfers a value to a register\n",
    "  - `mov`\n",
    "- **goto**: Jump to a different line\n",
    "  - `jmp`\n",
    "- **branch**: Like goto but only jumps if condition register is true\n",
    "  - `jn`, `jne`, etc."
   ]
  },
  {
   "cell_type": "markdown",
   "metadata": {},
   "source": [
    "#### Exercise 2\n",
    "\n",
    "```scheme\n",
    "(assign a (const 0))\n",
    "(assign a (op add) (reg a) (const 1))\n",
    "(assign a (op add) (reg a) (const 1))\n",
    "```\n",
    "\n"
   ]
  },
  {
   "cell_type": "markdown",
   "metadata": {},
   "source": [
    "### How does REM work ?\n",
    "\n",
    "```scheme\n",
    "(assign t (op rem) (reg a) (reg b))\n",
    "```\n",
    "\n",
    "#### Ex3: Replace the instruction above with a seq of instructions that use (op <), (op -)\n",
    "\n",
    "```scheme\n",
    "        (assign t (reg a))\n",
    "r-test: (test (op <) (reg t) (reg b))\n",
    "        (branch (label r-done))\n",
    "        (assign t (op -) (reg t) (reg b))\n",
    "        (goto (label r-test))\n",
    "r-done:\n",
    "```"
   ]
  },
  {
   "cell_type": "markdown",
   "metadata": {},
   "source": [
    "### Can we make Rem callable like a func from anywhere ?\n",
    "\n",
    "- We need to jmp back to the caller:\n",
    "  - The caller says\n",
    "    - `(assign continue (label after-call-1))`\n",
    "  - The REM subroutine ends with\n",
    "    - `(branch (reg continue)) ; Instead of (branch (label r-done)) above`"
   ]
  },
  {
   "cell_type": "markdown",
   "metadata": {},
   "source": [
    "```scheme\n",
    "test-b: (test (op =) (reg b) (const 0))\n",
    "        (branch (label done))\n",
    "        (assign continue (label push-x))\n",
    "        (goto (label rem-start))\n",
    "push-x: (assign a (reg b)) \n",
    "        (assign b (reg t)) \n",
    "        (goto (label test-b))\n",
    "done:\n",
    "```\n",
    "\n",
    "```scheme\n",
    "rem-start: (assign t (reg a))\n",
    "rem-test:  (test (op <) (reg t) (reg b))\n",
    "           (branch (reg continue))\n",
    "           (assign t (op -) (reg t) (reg b))\n",
    "           (goto (label rem-test))\n",
    "```"
   ]
  },
  {
   "cell_type": "markdown",
   "metadata": {},
   "source": [
    "**Subroutine**: A segment of machine code with an entry point, input registers, output/temporary registers"
   ]
  },
  {
   "cell_type": "code",
   "execution_count": null,
   "metadata": {
    "collapsed": true
   },
   "outputs": [],
   "source": []
  },
  {
   "cell_type": "code",
   "execution_count": null,
   "metadata": {
    "collapsed": true
   },
   "outputs": [],
   "source": []
  }
 ],
 "metadata": {
  "kernelspec": {
   "display_name": "Calysto Scheme 3",
   "language": "scheme",
   "name": "calysto_scheme"
  },
  "language_info": {
   "codemirror_mode": {
    "name": "scheme"
   },
   "mimetype": "text/x-scheme",
   "name": "scheme",
   "pygments_lexer": "scheme"
  }
 },
 "nbformat": 4,
 "nbformat_minor": 2
}
