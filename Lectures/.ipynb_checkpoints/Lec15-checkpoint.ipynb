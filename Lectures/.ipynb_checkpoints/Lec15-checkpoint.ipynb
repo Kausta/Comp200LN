{
 "cells": [
  {
   "cell_type": "markdown",
   "metadata": {},
   "source": [
    "# Lec15 `#7/11`"
   ]
  },
  {
   "cell_type": "markdown",
   "metadata": {},
   "source": [
    "##### To apply proc P:\n",
    "\n",
    "1. Create new frame A\n",
    "2. Bind params of P in A.\n",
    "3. A's env ptr = P's env ptr\n",
    "4. Eval P's body in new A\n",
    "\n",
    "** Follow these blindly. **"
   ]
  },
  {
   "cell_type": "markdown",
   "metadata": {},
   "source": [
    "Frame Drawings for following examples: \n",
    "\n",
    "```scheme\n",
    "(define square (lambda (x) (* x x))) ; | G.E.\n",
    "(square 4) ; | G.E. => 16\n",
    "```\n",
    "\n",
    "---\n",
    "\n",
    "```scheme\n",
    "(define square (lambda (x) (* x x))) ; | G.E.\n",
    "(define inc-square (lambda (y) (+ 1 (square y)))) ; | G.E. \n",
    "(inc-square 4) ; | G.E. => 17\n",
    "```\n",
    "\n",
    "---\n",
    "\n",
    "```scheme\n",
    "(define make-counter \n",
    "  (lambda (n)\n",
    "    (lambda ()\n",
    "      (set! n (+ n 1))\n",
    "      n)))\n",
    "(define ca (make-counter 0))\n",
    "(ca) ; => 1\n",
    "(define cb (make-counter 0))\n",
    "(ca) (cb) ; => 2 1\n",
    "```"
   ]
  },
  {
   "cell_type": "markdown",
   "metadata": {},
   "source": [
    "<img src=\"img/env_exercises.jpg\" alt=\"Drawing\" style=\"width: 500px;\"/>"
   ]
  }
 ],
 "metadata": {
  "kernelspec": {
   "display_name": "Calysto Scheme 3",
   "language": "scheme",
   "name": "calysto_scheme"
  },
  "language_info": {
   "codemirror_mode": {
    "name": "scheme"
   },
   "mimetype": "text/x-scheme",
   "name": "scheme",
   "pygments_lexer": "scheme"
  },
  "widgets": {
   "application/vnd.jupyter.widget-state+json": {
    "state": {},
    "version_major": 2,
    "version_minor": 0
   }
  }
 },
 "nbformat": 4,
 "nbformat_minor": 2
}
