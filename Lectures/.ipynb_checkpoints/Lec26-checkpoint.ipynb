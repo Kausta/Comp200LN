{
 "cells": [
  {
   "cell_type": "markdown",
   "metadata": {},
   "source": [
    "# Lec26 `#14/12`\n",
    "\n",
    "## Register Machine for a Scehme Evaluater (ec-eval)\n",
    "\n",
    "- **7 Registers**:\n",
    "  - **exp**: Expressions to be evaluatedd\n",
    "  - **env**: Current Environment\n",
    "  - **continue**: Return point\n",
    "  - **val**: Resulting value\n",
    "  - **unev**: List of unevaluated exprs\n",
    "  - **proc**: Operator value\n",
    "  - **argl**: Arguments Values\n",
    "- **Main Entry Point**: `eval-dispatch`\n",
    "- **Contract**:\n",
    "  - Inputs: `exp`, `env`, `continue`\n",
    "  - Output: `val`\n",
    "  - Writes: `all` (except `continue`)\n",
    "  - Stack: unchanged\n",
    "- **To apply a proc to args**: `apply-dispatch`\n",
    "  - Inputs: `proc`, `argl`, `stack` (top val return point)\n",
    "  - Output: `val`\n",
    "  - Writes: `all`\n",
    "  - Stack: top value removed"
   ]
  },
  {
   "cell_type": "markdown",
   "metadata": {},
   "source": []
  },
  {
   "cell_type": "code",
   "execution_count": null,
   "metadata": {
    "collapsed": true
   },
   "outputs": [],
   "source": []
  },
  {
   "cell_type": "code",
   "execution_count": null,
   "metadata": {
    "collapsed": true
   },
   "outputs": [],
   "source": []
  },
  {
   "cell_type": "code",
   "execution_count": null,
   "metadata": {
    "collapsed": true
   },
   "outputs": [],
   "source": []
  },
  {
   "cell_type": "code",
   "execution_count": null,
   "metadata": {
    "collapsed": true
   },
   "outputs": [],
   "source": []
  },
  {
   "cell_type": "code",
   "execution_count": null,
   "metadata": {
    "collapsed": true
   },
   "outputs": [],
   "source": []
  },
  {
   "cell_type": "code",
   "execution_count": null,
   "metadata": {
    "collapsed": true
   },
   "outputs": [],
   "source": []
  }
 ],
 "metadata": {
  "kernelspec": {
   "display_name": "Calysto Scheme 3",
   "language": "scheme",
   "name": "calysto_scheme"
  },
  "language_info": {
   "codemirror_mode": {
    "name": "scheme"
   },
   "mimetype": "text/x-scheme",
   "name": "scheme",
   "pygments_lexer": "scheme"
  }
 },
 "nbformat": 4,
 "nbformat_minor": 2
}
