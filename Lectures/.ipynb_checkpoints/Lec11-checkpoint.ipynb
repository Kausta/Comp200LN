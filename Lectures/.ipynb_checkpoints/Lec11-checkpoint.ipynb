{
 "cells": [
  {
   "cell_type": "markdown",
   "metadata": {},
   "source": [
    "# Lec11 `#24/10/2017`"
   ]
  },
  {
   "cell_type": "markdown",
   "metadata": {},
   "source": [
    "Note: Some code may on be Lec11.rkt since gui/image stuff is probably not implemented in Calysto Scheme!"
   ]
  },
  {
   "cell_type": "markdown",
   "metadata": {},
   "source": [
    "## Image Manipulation (with a DSL (or will be with a DSL))"
   ]
  },
  {
   "cell_type": "markdown",
   "metadata": {},
   "source": [
    "For ex: \n",
    "```scheme\n",
    "(define big-bro\n",
    "    (beside g\n",
    "            (above empty-picture g .5)\n",
    "            .5\n",
    "    ))\n",
    "```\n",
    "which draws g(George) on the left(0.5 of the screen), and a scaled(to 1/2) g on the right down, with empty space right up (0.5 vertically of the right side)"
   ]
  },
  {
   "cell_type": "markdown",
   "metadata": {},
   "source": [
    "```scheme\n",
    "(define acrobats\n",
    "    (beside g\n",
    "            (rotate180 (flip g))\n",
    "            0.5\n",
    "    ))\n",
    "```\n",
    ", self explanatory"
   ]
  },
  {
   "cell_type": "markdown",
   "metadata": {},
   "source": [
    "```scheme\n",
    "(define 4bats\n",
    "    (above acrobats\n",
    "           (flip acrobats)\n",
    "           .5\n",
    "    ))\n",
    "```"
   ]
  },
  {
   "cell_type": "markdown",
   "metadata": {},
   "source": [
    "Some more examples about the same thing, also with recursion"
   ]
  },
  {
   "cell_type": "markdown",
   "metadata": {},
   "source": [
    "```scheme\n",
    "; Puts n pictures vertically with each of the bottom one takes 3/4 vertical space \n",
    "(define (up-push pict n)\n",
    "    (if (= n 0)\n",
    "        (pict)\n",
    "        (above (up-push pict (- n 1))\n",
    "               pict\n",
    "               .25)))\n",
    "```\n"
   ]
  },
  {
   "cell_type": "markdown",
   "metadata": {},
   "source": [
    "```scheme\n",
    "(corner-push 4bats 2) ; Works likeup-push, but to up, right, and corner\n",
    "(...) ; Some function that creates nice pictures from texture like images, looks kinda Escher i guess ?\n",
    "```"
   ]
  },
  {
   "cell_type": "markdown",
   "metadata": {},
   "source": [
    "### Back To Lists : Procedures as Objects"
   ]
  },
  {
   "cell_type": "code",
   "execution_count": 1,
   "metadata": {},
   "outputs": [
    {
     "name": "stdout",
     "output_type": "stream",
     "text": [
      "1\n",
      "2"
     ]
    }
   ],
   "source": [
    "(define a (cons 1 2))\n",
    "(display (car a))\n",
    "(newline)\n",
    "(display (cdr a))"
   ]
  },
  {
   "cell_type": "markdown",
   "metadata": {},
   "source": [
    "Already implemented, but can also be implemented here using lambda:"
   ]
  },
  {
   "cell_type": "code",
   "execution_count": 23,
   "metadata": {},
   "outputs": [
    {
     "name": "stdout",
     "output_type": "stream",
     "text": [
      "1\n",
      "2"
     ]
    }
   ],
   "source": [
    "(define (cons a b)\n",
    "  (lambda (msg)\n",
    "    (cond ((eq? msg 'car) a)\n",
    "          ((eq? msg 'cdr) b)\n",
    "          (else (error)))))\n",
    "(define (car p) (p 'car))\n",
    "(define (cdr p) (p 'cdr))\n",
    "; Test Case\n",
    "(define a (cons 1 2))\n",
    "(display (car a))\n",
    "(newline)\n",
    "(display (cdr a))"
   ]
  },
  {
   "cell_type": "markdown",
   "metadata": {},
   "source": [
    "(Below is mixed with also my stuff:)"
   ]
  },
  {
   "cell_type": "code",
   "execution_count": 83,
   "metadata": {},
   "outputs": [
    {
     "name": "stdout",
     "output_type": "stream",
     "text": [
      "1 2\n"
     ]
    }
   ],
   "source": [
    "(define make-point cons)\n",
    "(define x-of car)\n",
    "(define y-of cdr)\n",
    ";;;\n",
    "(define (debug-xy point)\n",
    "  (display (x-of point))\n",
    "  (display \" \")\n",
    "  (display (y-of point))\n",
    "  (newline))\n",
    ";;;\n",
    "(define a (make-point 1 2))\n",
    "(debug-xy a)"
   ]
  },
  {
   "cell_type": "code",
   "execution_count": 12,
   "metadata": {},
   "outputs": [],
   "source": [
    "(define (unit-line-at y)\n",
    "  (lambda (t) (make-point t y)))\n",
    "(define y1 (unit-line-at 1))"
   ]
  },
  {
   "cell_type": "code",
   "execution_count": 22,
   "metadata": {},
   "outputs": [
    {
     "name": "stdout",
     "output_type": "stream",
     "text": [
      "1 1\n",
      "2 1\n",
      "3 1\n"
     ]
    }
   ],
   "source": [
    "(debug-xy (y1 1))\n",
    "(debug-xy (y1 2))\n",
    "(debug-xy (y1 3))"
   ]
  },
  {
   "cell_type": "code",
   "execution_count": 26,
   "metadata": {
    "collapsed": true
   },
   "outputs": [],
   "source": [
    "(define (curve1) \n",
    "  (lambda (t) (make-point t t)))\n",
    "(define line1 (curve1))"
   ]
  },
  {
   "cell_type": "code",
   "execution_count": 28,
   "metadata": {},
   "outputs": [
    {
     "name": "stdout",
     "output_type": "stream",
     "text": [
      "1 1\n"
     ]
    }
   ],
   "source": [
    "(debug-xy (line1 1))"
   ]
  },
  {
   "cell_type": "code",
   "execution_count": 62,
   "metadata": {},
   "outputs": [
    {
     "name": "stdout",
     "output_type": "stream",
     "text": [
      "2 2\n"
     ]
    }
   ],
   "source": [
    "(define (curve2) \n",
    "  (lambda (t) (make-point (* 2 t) (* 2 t))))\n",
    "(define line2 (curve2))\n",
    "(debug-xy (line2 1))"
   ]
  },
  {
   "cell_type": "markdown",
   "metadata": {},
   "source": [
    "Unit circle for $ t \\in [0,1] $:\n",
    "\n",
    "(All above and below is for $ t \\in [0,1] $)"
   ]
  },
  {
   "cell_type": "code",
   "execution_count": 61,
   "metadata": {},
   "outputs": [
    {
     "name": "stdout",
     "output_type": "stream",
     "text": [
      "1.0 0.0\n",
      "0.309018003860319 0.951056188292881\n",
      "0.9999999999859169 -5.307179586686775e-06\n"
     ]
    }
   ],
   "source": [
    "(import-from \"math\" \"sin\" \"cos\" \"pi\")\n",
    "(define (unit-circle) \n",
    "  (lambda (t)\n",
    "    (make-point (cos (* 2 pi t))\n",
    "                (sin (* 2 pi t)))))\n",
    "(define circle (unit-circle))\n",
    "(debug-xy (circle 0))\n",
    "(debug-xy (circle 0.2))\n",
    "(debug-xy (circle 1))"
   ]
  },
  {
   "cell_type": "code",
   "execution_count": 88,
   "metadata": {},
   "outputs": [
    {
     "name": "stdout",
     "output_type": "stream",
     "text": [
      "1 2\n",
      "|\n",
      "3 5\n",
      "\n"
     ]
    }
   ],
   "source": [
    "(define make-segment cons)\n",
    "(define start-segment car)\n",
    "(define end-segment cdr)\n",
    ";\n",
    "(define (debug-seg seg)\n",
    "  (debug-xy (start-segment seg))\n",
    "  (display \"|\") (newline)\n",
    "  (debug-xy (end-segment seg))\n",
    "  (newline))\n",
    ";\n",
    "(define seg (make-segment (make-point 1 2) (make-point 3 5)))\n",
    "(debug-seg seg)"
   ]
  }
 ],
 "metadata": {
  "kernelspec": {
   "display_name": "Calysto Scheme 3",
   "language": "scheme",
   "name": "calysto_scheme"
  },
  "language_info": {
   "codemirror_mode": {
    "name": "scheme"
   },
   "mimetype": "text/x-scheme",
   "name": "scheme",
   "pygments_lexer": "scheme"
  }
 },
 "nbformat": 4,
 "nbformat_minor": 2
}
