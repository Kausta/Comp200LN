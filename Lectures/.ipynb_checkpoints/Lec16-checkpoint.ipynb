{
 "cells": [
  {
   "cell_type": "markdown",
   "metadata": {},
   "source": [
    "# Lec6 `#9/11`\n",
    "\n",
    "## Implementing Object Oriented Programming in Scheme"
   ]
  },
  {
   "cell_type": "markdown",
   "metadata": {},
   "source": [
    "### Generic Operations\n",
    "\n",
    "```scheme\n",
    "; (Number|Line|Scale|...), Number -> \n",
    "(define (sale x factor)\n",
    "  (cond ((number? x) (* x factor))\n",
    "        ((line? x) (line-scale x factor))\n",
    "        ((shape? x) ...)\n",
    "        ...)\n",
    "```\n",
    "\n",
    "For a table with columns as Data Type and rows as Operations/Functions on them,\n",
    "generic operations represent a column ( and as a language example, Julia ), and classes\n",
    "represent a column ( e.g. Java )."
   ]
  },
  {
   "cell_type": "markdown",
   "metadata": {},
   "source": [
    "### Defining Objects with Message Passing Style"
   ]
  },
  {
   "cell_type": "code",
   "execution_count": 6,
   "metadata": {},
   "outputs": [
    {
     "name": "stdout",
     "output_type": "stream",
     "text": [
      "#<procedure>\n",
      "True\n",
      "3\n",
      "5\n"
     ]
    }
   ],
   "source": [
    "(define (cons x y) ; Constructor for a Pair object\n",
    "  (lambda (msg)    ; new Pair(x, y) in Java\n",
    "    (cond ((eq? msg 'car) x)\n",
    "          ((eq? msg 'cdr) y)\n",
    "          ((eq? msg 'pair?) #t)\n",
    "            ; ...\n",
    "          (else (error \"Unknown message\")))\n",
    "  ))\n",
    "(define (car p) (p 'car))\n",
    "(define (cdr p) (p 'cdr))\n",
    "(define (pair? p) (and (procedure? p) (p 'pair?)))\n",
    "\n",
    "; ---\n",
    "\n",
    "(define p (cons 3 5))\n",
    "(display p) (newline)\n",
    "(display (pair? p)) (newline)\n",
    "(display (car p)) (newline)\n",
    "(display (cdr p)) (newline)"
   ]
  },
  {
   "cell_type": "markdown",
   "metadata": {},
   "source": [
    "#### Pair Mutation Methods"
   ]
  },
  {
   "cell_type": "code",
   "execution_count": 7,
   "metadata": {},
   "outputs": [
    {
     "name": "stdout",
     "output_type": "stream",
     "text": [
      "#<procedure>\n",
      "3\n",
      "Changed car to 4\n",
      "4\n"
     ]
    }
   ],
   "source": [
    "(define (cons x y) ; Constructor for a Pair object\n",
    "  (lambda (msg)    ; new Pair(x, y) in Java\n",
    "    (cond ((eq? msg 'car) x)\n",
    "          ((eq? msg 'cdr) y)\n",
    "          ((eq? msg 'pair?) #t)\n",
    "          ((eq? msg 'set-car!) \n",
    "           (lambda (new-car) \n",
    "             (set! x new-car)))\n",
    "          ((eq? msg 'set-cdr!) \n",
    "           (lambda (new-cdr) \n",
    "             (set! y new-cdr)))\n",
    "            ; ...\n",
    "          (else (error \"Unknown message\")))\n",
    "  ))\n",
    "(define (set-car! p a) \n",
    "  ((p 'set-car!) a))\n",
    "(define (set-cdr! p a) \n",
    "  ((p 'set-cdr!) a))\n",
    "\n",
    "(define p (cons 3 5))\n",
    "(display p) (newline)\n",
    "(display (car p)) (newline)\n",
    "(set-car! p 4) (display \"Changed car to 4\") (newline)\n",
    "(display (car p)) (newline)"
   ]
  },
  {
   "cell_type": "markdown",
   "metadata": {},
   "source": [
    "### Procedures with Variable Number of Args"
   ]
  },
  {
   "cell_type": "code",
   "execution_count": 10,
   "metadata": {},
   "outputs": [
    {
     "name": "stdout",
     "output_type": "stream",
     "text": [
      "3\n",
      "Hello\n",
      "a\n"
     ]
    }
   ],
   "source": [
    "(lambda (a b) ...)     ; 2 args\n",
    "(lambda argslist ...)  ; No pairs, any number of args\n",
    "(lambda (a b . c) ...) ; 2 or more args\n",
    "                       ; c is a list of the arguments after first 2\n",
    "\n",
    "; Me trying\n",
    "(define debug \n",
    "  (lambda argslist \n",
    "    (for-each (lambda (x) (display x) (newline)) argslist)))\n",
    "(debug 3 \"Hello\" 'a)"
   ]
  },
  {
   "cell_type": "markdown",
   "metadata": {},
   "source": [
    "## Midterm Questions\n",
    "\n",
    "1. Lambda eval using subst model\n",
    "2. Complicated exps in env model\n",
    "3. Complicated box-ptr diagrams set-car! set-cdr!\n",
    "4. Data structure, constructor, selectors\n",
    "..."
   ]
  }
 ],
 "metadata": {
  "kernelspec": {
   "display_name": "Calysto Scheme 3",
   "language": "scheme",
   "name": "calysto_scheme"
  },
  "language_info": {
   "codemirror_mode": {
    "name": "scheme"
   },
   "mimetype": "text/x-scheme",
   "name": "scheme",
   "pygments_lexer": "scheme"
  }
 },
 "nbformat": 4,
 "nbformat_minor": 2
}
