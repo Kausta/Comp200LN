{
 "cells": [
  {
   "cell_type": "markdown",
   "metadata": {},
   "source": [
    "# Lec28 `#21/12`\n",
    "\n",
    "## Memory Management\n",
    "\n",
    "- We have 3 types of memory:\n",
    "  - Registers\n",
    "  - Stack\n",
    "  - Heap\n",
    "- Heap & Stack consist of vectors/arrays of words\n",
    "- A word consists of an vector/array of bits\n",
    "- List uses a few of the bits to indicate the type"
   ]
  },
  {
   "cell_type": "markdown",
   "metadata": {},
   "source": [
    "### Stack as a Vector\n",
    "\n",
    "<img src=\"img/stack_vector.jpg\" width=\"500\" height=\"500\"></img>\n",
    "\n",
    "### Vector Commands\n",
    "\n",
    "```scheme\n",
    "(assign reg (op vector-ref) (reg v) <index>)\n",
    "(perform (op vector-set!) (reg v) <index> <val>)\n",
    "```\n",
    "\n",
    "#### Exercise 1:\n",
    "\n",
    "Implement save/restore assuming a stack register & sp register"
   ]
  },
  {
   "cell_type": "markdown",
   "metadata": {},
   "source": [
    "### List Structured Memory (Heap)\n",
    "\n",
    "Basic Idea: Use two vectors\n",
    "\n",
    "<img src=\"img/heap.jpg\" width=\"500\" height=\"500\"></img>\n",
    "\n",
    "#### Exercise 2\n",
    "\n",
    "Implement the following using vectors: \n",
    "\n",
    "```scheme\n",
    "(assign <reg> (op car) <pair>)\n",
    "(assign <reg> (op cdr) <pair>)\n",
    "(assign <reg> (op cons) <val1> <val2>)\n",
    "```"
   ]
  },
  {
   "cell_type": "markdown",
   "metadata": {},
   "source": [
    "### What is in a Word?\n",
    "\n",
    "- 4 Bits: Type Tag\n",
    "  - 0000: Empty List (E0)\n",
    "  - 0001: Cons Pointer (P5)\n",
    "  - 0010: Integer (N3)\n",
    "  - 0011: Boolean (B0)\n",
    "- 60 Bits: Contents\n",
    "\n",
    "`({Letter}{Number})`: Letter: Type, Number: Content\n",
    "\n",
    "#### Exercise 3:\n",
    "\n",
    "Draw heap after\n",
    "```scheme\n",
    "(define a (list 4 7 6))\n",
    "(define b (cons a a))\n",
    "```"
   ]
  },
  {
   "cell_type": "markdown",
   "metadata": {},
   "source": [
    "## GC\n",
    "\n",
    "### Mark/Sweep Garbage Collection\n",
    "\n",
    "- Slides\n",
    "\n",
    "### Stop/Copy (look on your own)"
   ]
  },
  {
   "cell_type": "code",
   "execution_count": null,
   "metadata": {
    "collapsed": true
   },
   "outputs": [],
   "source": []
  },
  {
   "cell_type": "code",
   "execution_count": null,
   "metadata": {
    "collapsed": true
   },
   "outputs": [],
   "source": []
  },
  {
   "cell_type": "code",
   "execution_count": null,
   "metadata": {
    "collapsed": true
   },
   "outputs": [],
   "source": []
  },
  {
   "cell_type": "code",
   "execution_count": null,
   "metadata": {
    "collapsed": true
   },
   "outputs": [],
   "source": []
  },
  {
   "cell_type": "code",
   "execution_count": null,
   "metadata": {
    "collapsed": true
   },
   "outputs": [],
   "source": []
  }
 ],
 "metadata": {
  "kernelspec": {
   "display_name": "Calysto Scheme 3",
   "language": "scheme",
   "name": "calysto_scheme"
  },
  "language_info": {
   "codemirror_mode": {
    "name": "scheme"
   },
   "mimetype": "text/x-scheme",
   "name": "scheme",
   "pygments_lexer": "scheme"
  }
 },
 "nbformat": 4,
 "nbformat_minor": 2
}
