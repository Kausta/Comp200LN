{
 "cells": [
  {
   "cell_type": "markdown",
   "metadata": {},
   "source": [
    "# Lec21 `28/11`"
   ]
  },
  {
   "cell_type": "markdown",
   "metadata": {},
   "source": [
    "## The Evaluator (v.6)\n"
   ]
  },
  {
   "cell_type": "markdown",
   "metadata": {},
   "source": [
    "```scheme\n",
    "(define (eval exp env)\n",
    "  (cond ...\n",
    "        ((symbol? exp) (lookup exp env))\n",
    "        ...))\n",
    "```\n",
    "\n"
   ]
  },
  {
   "cell_type": "markdown",
   "metadata": {},
   "source": [
    "#### Exercise 1\n",
    "```scheme\n",
    "(eval '(define twice (lambda (x) (+ x x))) GE)\n",
    "(eval '(twice 4) GE) ; => 8\n",
    "```\n",
    "1. Add lambda as a special expression in eval\n",
    "2. Extend apply to handle compound procedures\n",
    "3. Implement the environment model"
   ]
  },
  {
   "cell_type": "markdown",
   "metadata": {},
   "source": [
    "\n",
    "### Environment Model\n",
    "\n",
    "- Lambda Rule: Evaluating a lambda expression creates a procedure with params, body, env\n",
    "- Apply Rule: When we apply proc $ p $ to args $ a $:\n",
    "    1. Create a new frame $ A $\n",
    "    2. Bind arguments of $ p $ to their values in $ A $\n",
    "    3. Make env $ E $ by pointing from $ A $ to $ p $'s env\n",
    "    4. Evale body of $ p $ in env $ E $"
   ]
  },
  {
   "cell_type": "markdown",
   "metadata": {},
   "source": [
    "#### Exercise 0\n",
    "\n",
    "Implement ```lambda?``` and ```eval-lambda```\n",
    "\n",
    "---\n",
    "\n",
    "```scheme\n",
    "(define (lambda? exp)\n",
    "    (and (pair? exp)\n",
    "         (eq? (car exp) 'lambda)))\n",
    "(define (eval-lambda exp env)\n",
    "    (if (not (lambda? exp)) (error \"Not a lambda\" exp)\n",
    "        (list 'compound\n",
    "              (lambda-params exp)\n",
    "              (lambda-body exp)\n",
    "              env)))\n",
    "(define lambda-params cadr)\n",
    "(define lambda-body caddr)\n",
    "\n",
    "(define (eval exp env)\n",
    "    (cond ...\n",
    "          ((lambda? exp) (eval-lambda exp env))\n",
    "          ...))\n",
    "```"
   ]
  },
  {
   "cell_type": "markdown",
   "metadata": {},
   "source": [
    "**apply**: \n",
    "```scheme\n",
    "(define (apply proc args)\n",
    "  (cond (primitive? proc) ...)\n",
    "        (compound? proc) \n",
    "          (eval (body proc)\n",
    "            (extend-env-with-new-frame \n",
    "              (params proc) args (env proc)))))))\n",
    "```"
   ]
  },
  {
   "cell_type": "markdown",
   "metadata": {},
   "source": [
    "### Components of the Interpreter\n",
    "\n",
    "1. Eval/apply core\n",
    "2. syntax procedures: `let` $ \\rightarrow $ `lambda` \n",
    "\n",
    " ``` (define (f x) -> (define f (lambda (x)) ```\n",
    "\n",
    "3. env manipulation\n",
    "4. primitives & initial env\n",
    "5. REPL: read eval print loop"
   ]
  },
  {
   "cell_type": "markdown",
   "metadata": {},
   "source": [
    "     eval     --->   <---    apply\n",
    "         proc args | exp env\n",
    "     "
   ]
  },
  {
   "cell_type": "code",
   "execution_count": null,
   "metadata": {
    "collapsed": true
   },
   "outputs": [],
   "source": []
  },
  {
   "cell_type": "code",
   "execution_count": null,
   "metadata": {
    "collapsed": true
   },
   "outputs": [],
   "source": []
  }
 ],
 "metadata": {
  "kernelspec": {
   "display_name": "Calysto Scheme 3",
   "language": "scheme",
   "name": "calysto_scheme"
  },
  "language_info": {
   "codemirror_mode": {
    "name": "scheme"
   },
   "mimetype": "text/x-scheme",
   "name": "scheme",
   "pygments_lexer": "scheme"
  }
 },
 "nbformat": 4,
 "nbformat_minor": 2
}
