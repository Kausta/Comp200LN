{
 "cells": [
  {
   "cell_type": "markdown",
   "metadata": {},
   "source": [
    "# Lec25 `#12/12`\n",
    "\n",
    "## Register Machines\n",
    "\n",
    "- Subroutines\n",
    "- Contracts\n",
    "- Stack & Recursion\n",
    "- ec-eval"
   ]
  },
  {
   "cell_type": "markdown",
   "metadata": {},
   "source": [
    "### Subroutine\n",
    "\n",
    "**Subroutine**: Sequence of instructions that can be called from multiple places.\n",
    "\n",
    "**`continue`** register:\n",
    "```scheme\n",
    "(assign continue (label foo1))\n",
    "...\n",
    "(goto (reg continue))\n",
    "```"
   ]
  },
  {
   "cell_type": "markdown",
   "metadata": {},
   "source": [
    "#### Ex1: \n",
    "\n",
    "Use the following subroutine to write a program that sets x to 0 and increments it twice.\n",
    "\n",
    "```scheme\n",
    "increment: (assign x (op +) (reg x) (const 1))\n",
    "           (goto (reg continue))\n",
    "```\n",
    "\n",
    "---\n",
    "\n",
    "```scheme\n",
    "       (assign x (const 0))\n",
    "       (assign continue (label cont1))\n",
    "       (goto (label increment))\n",
    "cont1: (assign continue (label cont2))\n",
    "       (goto (label increment))\n",
    "cont2: \n",
    "```"
   ]
  },
  {
   "cell_type": "markdown",
   "metadata": {},
   "source": [
    "**Contract** for a subroutine: `increment`\n",
    "\n",
    "- Input: `x`, `continue`\n",
    "- Output: `x`\n",
    "- Writes: None\n",
    "\n"
   ]
  },
  {
   "cell_type": "markdown",
   "metadata": {},
   "source": [
    "### Stack\n",
    "\n",
    "**Stack**: A memory device and two new instructions: `save`, `restore`"
   ]
  },
  {
   "cell_type": "markdown",
   "metadata": {},
   "source": [
    "```scheme\n",
    "(assign a (const 0))\n",
    "(assign b (const 5))\n",
    "(save a)\n",
    "(restore b) ; b = 0 now\n",
    "```"
   ]
  },
  {
   "cell_type": "markdown",
   "metadata": {},
   "source": [
    "#### Ex2:\n",
    "\n",
    "Write a program that swaps a, b values\n",
    "\n",
    "---\n",
    "\n",
    "```scheme\n",
    "(save a)\n",
    "(save b)\n",
    "(restore a) ; a = b_old\n",
    "(restore b) ; b = a_old\n",
    "```"
   ]
  },
  {
   "cell_type": "markdown",
   "metadata": {},
   "source": [
    "#### Ex3:\n",
    "\n",
    "Assume a=3, b=5, c=8\n",
    "\n",
    "```scheme\n",
    "(save b)\n",
    "(save c)\n",
    "(save a) ; What does stack look like ?\n",
    "(restore c)\n",
    "(restore b)\n",
    "(restore a) ; What are the values of a, b, c ?\n",
    "```\n",
    "\n",
    "---\n",
    "\n",
    "<table>\n",
    "<tr><th>Stack</th></tr>\n",
    "<tr><td>3</td></tr>\n",
    "<tr><td>8</td></tr>\n",
    "<tr><td>5</td></tr>\n",
    "</table>\n",
    "\n",
    "- `a`: 5\n",
    "- `b`: 8\n",
    "- `c`: 3"
   ]
  },
  {
   "cell_type": "markdown",
   "metadata": {},
   "source": [
    "### Recursion using Stack:\n",
    "\n",
    "```scheme\n",
    "(define (fact n)\n",
    "  (if (= n 1) 1\n",
    "      (* n (fact (- n 1)))))\n",
    "```\n",
    "\n",
    "---\n",
    "\n",
    "Contract for fact: \n",
    "\n",
    " - Registers: n, continue, val\n",
    " - Input: n, continue\n",
    " - Output: val\n",
    " - Writes: all registers\n",
    " \n",
    "```scheme\n",
    "fact:    (test (op =) (reg n) (const 1))\n",
    "         (branch (label done))\n",
    "         (save n)\n",
    "         (save continue)\n",
    "         (assign n (op -) (reg n) (const 1))\n",
    "         (assign continue (label recurse))\n",
    "         (goto (label fact))\n",
    "recurse: (restore continue)\n",
    "         (restore n)\n",
    "         (assign val (op *) (reg val) (reg n))\n",
    "         (goto (reg continue))\n",
    "done:    (assign val (const 1))\n",
    "         (goto (reg continue))\n",
    "```"
   ]
  }
 ],
 "metadata": {
  "kernelspec": {
   "display_name": "Calysto Scheme 3",
   "language": "scheme",
   "name": "calysto_scheme"
  },
  "language_info": {
   "codemirror_mode": {
    "name": "scheme"
   },
   "mimetype": "text/x-scheme",
   "name": "scheme",
   "pygments_lexer": "scheme"
  }
 },
 "nbformat": 4,
 "nbformat_minor": 2
}
