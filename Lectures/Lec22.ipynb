{
 "cells": [
  {
   "cell_type": "markdown",
   "metadata": {},
   "source": [
    "# Lec22 `#30/11`"
   ]
  },
  {
   "cell_type": "markdown",
   "metadata": {},
   "source": [
    "### Exercise 1\n",
    "\n",
    "- Syntatic Sugar\n",
    "\n",
    "### Exercise 2\n",
    "\n",
    "- Tracking a call through our metacircular evaluator"
   ]
  },
  {
   "cell_type": "markdown",
   "metadata": {},
   "source": [
    "## Lexical vs Dynamic Scope\n",
    "\n",
    "- **Variable Scope**: What part of program is a variable visible\n",
    "- **Lexical Scope**: What env model imlements\n",
    "\n",
    "### Lexical Scope Example:\n",
    "\n",
    "```scheme\n",
    "(define (make-person fname lname) ; fname, lname are only defined below\n",
    "   (let ((age 9))         ; age is only defined below\n",
    "      (lambda (msg) ; msg is only defined below\n",
    "          ...\n",
    "          ...)))\n",
    "```"
   ]
  },
  {
   "cell_type": "markdown",
   "metadata": {},
   "source": [
    "### Dynamic Scope Example:\n",
    "\n",
    "```scheme\n",
    "(define (pooh x) (bear 20))\n",
    "(define (bear y) (+ x y))\n",
    "(pooh 9)\n",
    "```\n",
    "\n",
    "- Error in lexical scope\n",
    "- 29 in dynamic scope"
   ]
  },
  {
   "cell_type": "code",
   "execution_count": null,
   "metadata": {
    "collapsed": true
   },
   "outputs": [],
   "source": []
  },
  {
   "cell_type": "code",
   "execution_count": null,
   "metadata": {
    "collapsed": true
   },
   "outputs": [],
   "source": []
  }
 ],
 "metadata": {
  "kernelspec": {
   "display_name": "Calysto Scheme 3",
   "language": "scheme",
   "name": "calysto_scheme"
  },
  "language_info": {
   "codemirror_mode": {
    "name": "scheme"
   },
   "mimetype": "text/x-scheme",
   "name": "scheme",
   "pygments_lexer": "scheme"
  }
 },
 "nbformat": 4,
 "nbformat_minor": 2
}
