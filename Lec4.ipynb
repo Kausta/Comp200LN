{
 "cells": [
  {
   "cell_type": "markdown",
   "metadata": {},
   "source": [
    "# Lec 4 `#28.09.17`"
   ]
  },
  {
   "cell_type": "markdown",
   "metadata": {},
   "source": [
    "### Remainders\n",
    "\n",
    " - PS-2 due to next week\n",
    " - Project 0 due to Oct 2.\n",
    " - Reading: SICP 1.1, 1.2\n",
    " \n",
    "### This lecture\n",
    "\n",
    "Processes created by procedures"
   ]
  },
  {
   "cell_type": "markdown",
   "metadata": {},
   "source": [
    "## Example\n"
   ]
  },
  {
   "cell_type": "markdown",
   "metadata": {},
   "source": [
    "```scheme\n",
    "; Assume inc and dec are builtin -> add1 and sub1\n",
    "; Define +\n",
    "(define (+ x y) ; assume x y positive integers or zero\n",
    "  (if (= y 0)\n",
    "      x\n",
    "      (+ (add1 x) (sub1 y)))\n",
    ")\n",
    "(+ 5 6)\n",
    "```"
   ]
  },
  {
   "cell_type": "markdown",
   "metadata": {},
   "source": [
    "### Questions\n",
    "\n",
    "- Q1: How does time grow with x and y ?\n",
    "    - Time: $ O(y) $\n",
    "- Q2: How does space grow with x and y ?\n",
    "    - Space: $ O(1) $\n",
    "\n",
    "is `iterative`"
   ]
  },
  {
   "cell_type": "markdown",
   "metadata": {},
   "source": [
    "### Another way\n",
    "\n",
    "```scheme\n",
    "(define (+ x y) ; assume x y positive integers or zero\n",
    "  (if (= y 0)\n",
    "      x\n",
    "      (add1 (+ x (sub1 y))))\n",
    ")\n",
    "(+ 5 6)\n",
    "```\n",
    "- Time: $ O(y) $\n",
    "- Space: $ O(y) $\n",
    "\n",
    "is `recursive`"
   ]
  },
  {
   "cell_type": "markdown",
   "metadata": {},
   "source": [
    "### Exponential"
   ]
  },
  {
   "cell_type": "code",
   "execution_count": 4,
   "metadata": {},
   "outputs": [
    {
     "data": {
      "text/plain": [
       "8"
      ]
     },
     "execution_count": 4,
     "metadata": {},
     "output_type": "execute_result"
    }
   ],
   "source": [
    "(define (expt a b) ; a^b,  a,b are pos int\n",
    "  (if (= b 0)\n",
    "      1\n",
    "      (* a (expt a (- b 1))))\n",
    "  )\n",
    "(expt 2 3)"
   ]
  },
  {
   "cell_type": "markdown",
   "metadata": {},
   "source": []
  },
  {
   "cell_type": "markdown",
   "metadata": {},
   "source": []
  }
 ],
 "metadata": {
  "kernelspec": {
   "display_name": "Calysto Scheme 3",
   "language": "scheme",
   "name": "calysto_scheme"
  },
  "language_info": {
   "codemirror_mode": {
    "name": "scheme"
   },
   "mimetype": "text/x-scheme",
   "name": "scheme",
   "pygments_lexer": "scheme"
  }
 },
 "nbformat": 4,
 "nbformat_minor": 2
}
