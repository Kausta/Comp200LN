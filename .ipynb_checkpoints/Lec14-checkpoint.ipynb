{
 "cells": [
  {
   "cell_type": "markdown",
   "metadata": {},
   "source": [
    "# Lec14 `#2/11`"
   ]
  },
  {
   "cell_type": "markdown",
   "metadata": {},
   "source": [
    "## The Environment Model\n",
    "\n",
    "- Substitution model gives the same value for the same expression.\n",
    "- Therefore it cannot model assignment. (set!)\n",
    "- We need a new model: EM with new rules for: variables, combinations, set!, define, special forms etc.\n",
    "\n",
    "Examples:"
   ]
  },
  {
   "cell_type": "code",
   "execution_count": 4,
   "metadata": {},
   "outputs": [
    {
     "data": {
      "text/plain": [
       "(1 2 3)"
      ]
     },
     "execution_count": 4,
     "metadata": {},
     "output_type": "execute_result"
    }
   ],
   "source": [
    "(define make-counter\n",
    "  (lambda (n)\n",
    "    (lambda () \n",
    "      (set! n (+ 1 n))\n",
    "      n)))\n",
    "(define counter (make-counter 0))\n",
    "(define res (list (counter) (counter) (counter)))\n",
    "res"
   ]
  },
  {
   "cell_type": "markdown",
   "metadata": {},
   "source": [
    "$ \\text{make-counter} :: Number \\rightarrow (Void \\rightarrow Number) $"
   ]
  },
  {
   "cell_type": "code",
   "execution_count": 5,
   "metadata": {},
   "outputs": [
    {
     "name": "stdout",
     "output_type": "stream",
     "text": [
      "1\n",
      "2\n",
      "3"
     ]
    }
   ],
   "source": [
    "(define ca (make-counter 0))\n",
    "(display (ca)) (newline)\n",
    "(display (ca)) (newline)\n",
    "(display (ca))"
   ]
  },
  {
   "cell_type": "code",
   "execution_count": 8,
   "metadata": {},
   "outputs": [
    {
     "name": "stdout",
     "output_type": "stream",
     "text": [
      "cb: 1\n",
      "ca: 4\n",
      "cb: 2"
     ]
    }
   ],
   "source": [
    "(define cb (make-counter 0))\n",
    "(display \"cb: \") (display (cb)) (newline)\n",
    "(display \"ca: \") (display (ca)) (newline)\n",
    "(display \"cb: \") (display (cb))"
   ]
  },
  {
   "cell_type": "markdown",
   "metadata": {},
   "source": [
    "Substition model fails for this, as a function cannot return different values for same arguments in that."
   ]
  },
  {
   "cell_type": "markdown",
   "metadata": {},
   "source": [
    "### Definitions\n",
    "\n",
    "- **Binding**: A name-value pair\n",
    "- **Frame**: A table of bindings\n",
    "- **Environment**: A sequence of frames"
   ]
  },
  {
   "cell_type": "markdown",
   "metadata": {},
   "source": [
    "Drawings for Frame's, Enclosing Environment Ptr, Environments\n",
    "\n",
    "For example, \n",
    "- Env 2\n",
    "  - Frame B: $ z=10 $\n",
    "- Env 1\n",
    "  - Frame A:\n",
    "    - $ x=15 $\n",
    "    - $ y= $ [ 1 | $\\rightarrow$ ] $\\rightarrow$ [ 2 | / ]\n",
    "  - Enclosing Environment Ptr from A to B\n",
    "\n",
    "---\n",
    "\n",
    "- Env 2 consists of just Frame B\n",
    "  - z is defined\n",
    "  - x, y are not defined\n",
    "- Env 1 consists of Frame A followed by Frame B\n",
    "  - x, y, z are defined\n",
    "\n",
    "--- \n",
    "\n",
    "<img src=\"img/env_1.jpg\" alt=\"Drawing\" style=\"width: 500px;\"/>"
   ]
  },
  {
   "cell_type": "markdown",
   "metadata": {},
   "source": [
    "### Name Rule\n",
    "\n",
    "A variable X evaluated in environment E gives the values in the first frame of E that contains X.\n",
    "\n",
    "- $ z \\rvert _{E2} = 10 $\n",
    "\n",
    "- $ z \\rvert _{E1} = 10 $\n",
    "\n",
    "- $ x \\rvert _{E2} = $ <font color=\"red\">Error</font>\n",
    "\n",
    "- $ x \\rvert _{E1} = 15$"
   ]
  },
  {
   "cell_type": "markdown",
   "metadata": {},
   "source": [
    "### Define Rule\n",
    "\n",
    "Create or replace a binding only in the first frame of Env.\n",
    "\n",
    "- $ (\\text{define} \\ z \\ 20) \\rvert _{E2} $\n",
    "  - $ z \\rvert _{E2} = 20 $\n",
    "  \n",
    "  \n",
    "- $ (\\text{define} \\ z \\ 25) \\rvert _{E1} $\n",
    "  - $ z \\rvert _{E1} = 25 $"
   ]
  },
  {
   "cell_type": "markdown",
   "metadata": {},
   "source": [
    "### Set! Rule\n",
    "\n",
    "Changes the value in the binding of X in the **first frame of** E **that contains X**\n",
    "\n",
    "- $ (\\text{define} \\ t \\ 10) \\rvert _{E2} $\n",
    "  - $ t \\rvert _{E2} = 10 $\n",
    "\n",
    "\n",
    "- $ (\\text{set!} \\ t \\ 20) \\rvert _{E2} $\n",
    "  - $ t \\rvert _{E2} = 20 $\n",
    "  \n",
    "\n",
    "- $ (\\text{set!} \\ t \\ 25) \\rvert _{E1} $\n",
    "  - $ t \\rvert _{E2} = 25 $\n",
    "  - Notice that it says E2, as set replaces in the first frame it finds the variable\n",
    "  \n",
    "  \n",
    "- $ (\\text{set!} \\ s \\ 7) \\rvert _{E2} \\implies $ <font color=\"red\">Error</font>\n",
    "  - Again, since it actually searches for the variable, and it is an error if the variable doesnt exists"
   ]
  },
  {
   "cell_type": "markdown",
   "metadata": {},
   "source": [
    "### Exercise\n",
    "\n",
    "Show in environment:\n",
    "\n",
    "- $ (\\text{define} \\ s \\ 10) \\rvert _{E2} $\n",
    "\n",
    "- $ (+ \\ s \\ 1) \\rvert _{E1} $\n",
    "\n",
    "- $ (\\text{set!} \\ s \\ (+ \\ s \\ 1)) \\rvert _{E1} $\n",
    "\n",
    "- $ (\\text{define} \\ s \\ (+ \\ s \\ 1)) \\rvert _{E1} $\n",
    "\n",
    "- $ (\\text{set!} \\ y \\ (+ \\ s \\ 1)) \\rvert _{E2} $"
   ]
  },
  {
   "cell_type": "markdown",
   "metadata": {},
   "source": [
    "### Lambda Rule\n",
    "\n",
    "A lambda form evaluated in E creates a procedure whose **Environment Pointer is E**\n",
    "\n",
    "Drawed as double bubble:\n",
    "\n",
    "<img src=\"img/env_2.jpg\" alt=\"Drawing\" style=\"width: 500px;\"/>\n",
    "\n",
    "---\n",
    "\n",
    "<img src=\"img/env_3.jpg\" alt=\"Drawing\" style=\"width: 500px;\"/>"
   ]
  },
  {
   "cell_type": "markdown",
   "metadata": {},
   "source": [
    "## To Apply proc P to args:\n",
    "\n",
    "1. Create a new frame $ A $\n",
    "2. $ A \\ $'s enclosing env ptr = $ P \\ $'s env ptr\n",
    "3. In $ A $, bind params of $ P $ to arg values\n",
    "4. Evaluate body of $ P $ with $ Env $ whose top frame is $ A $"
   ]
  },
  {
   "cell_type": "markdown",
   "metadata": {},
   "source": [
    "<img src=\"img/env_4.jpg\" alt=\"Drawing\" style=\"width: 500px;\"/>\n",
    "\n",
    "---\n",
    "\n",
    "<img src=\"img/env_5.jpg\" alt=\"Drawing\" style=\"width: 500px;\"/>"
   ]
  }
 ],
 "metadata": {
  "kernelspec": {
   "display_name": "Calysto Scheme 3",
   "language": "scheme",
   "name": "calysto_scheme"
  },
  "language_info": {
   "codemirror_mode": {
    "name": "scheme"
   },
   "mimetype": "text/x-scheme",
   "name": "scheme",
   "pygments_lexer": "scheme"
  }
 },
 "nbformat": 4,
 "nbformat_minor": 2
}
