{
 "cells": [
  {
   "cell_type": "markdown",
   "metadata": {},
   "source": [
    "# Lec13 `31/10`"
   ]
  },
  {
   "cell_type": "markdown",
   "metadata": {},
   "source": [
    "### Content:\n",
    "\n",
    "- Tables\n",
    "- Association Lists\n",
    "- Vectors\n",
    "- Binary Search\n",
    "- Hash Tables"
   ]
  },
  {
   "cell_type": "markdown",
   "metadata": {},
   "source": [
    "## Tables\n",
    "\n",
    "|  Key  | Value |\n",
    "|-------|-------|\n",
    "| Deniz | 1724  |\n",
    "| Alkan | 1830  |\n",
    "| Atilla| 1740  |\n",
    "\n",
    "Table ADT:\n",
    "```scheme\n",
    "(make-table)\n",
    "(table-get tbl key) ; => value\n",
    "(table-put! tbl key val)\n",
    "```"
   ]
  },
  {
   "cell_type": "markdown",
   "metadata": {},
   "source": [
    "### Association List\n",
    "\n",
    "```scheme\n",
    "'(table (Deniz 1724)\n",
    "        (Alkan 1830)\n",
    "        (Atilla 1740))\n",
    "```\n",
    "\n",
    "Exercise: \n",
    "- Box-Ptr Diagram for table above\n",
    "- Implment the 3 table procedures (Using set-car! set-cdr!)"
   ]
  },
  {
   "cell_type": "code",
   "execution_count": 31,
   "metadata": {},
   "outputs": [
    {
     "data": {
      "text/plain": [
       "(table (Caner 3))"
      ]
     },
     "execution_count": 31,
     "metadata": {},
     "output_type": "execute_result"
    }
   ],
   "source": [
    "(define (make-table) `(table))\n",
    "(define (table-get tbl key)\n",
    "  (define (impl tbl key)\n",
    "    (cond ((null? tbl) #f)\n",
    "          ((equal? (caar tbl) key) (cadar tbl))\n",
    "          (else (impl (cdr tbl) key))))\n",
    "  (impl (cdr tbl) key))\n",
    "(define (table-put! tbl key value)\n",
    "  (set-cdr! tbl (cons (list key value)\n",
    "                      (cdr tbl))))\n",
    "(define tab (make-table))\n",
    "(table-put! tab `Caner 3)\n",
    "tab"
   ]
  },
  {
   "cell_type": "code",
   "execution_count": 32,
   "metadata": {},
   "outputs": [
    {
     "data": {
      "text/plain": [
       "(table (Deniz 2) (Caner 3))"
      ]
     },
     "execution_count": 32,
     "metadata": {},
     "output_type": "execute_result"
    }
   ],
   "source": [
    "(table-put! tab `Deniz 2)\n",
    "tab"
   ]
  },
  {
   "cell_type": "code",
   "execution_count": 33,
   "metadata": {},
   "outputs": [
    {
     "data": {
      "text/plain": [
       "(table (Caner 1) (Deniz 2) (Caner 3))"
      ]
     },
     "execution_count": 33,
     "metadata": {},
     "output_type": "execute_result"
    }
   ],
   "source": [
    "(table-put! tab 'Caner 1)\n",
    "tab"
   ]
  },
  {
   "cell_type": "code",
   "execution_count": 34,
   "metadata": {},
   "outputs": [
    {
     "data": {
      "text/plain": [
       "1"
      ]
     },
     "execution_count": 34,
     "metadata": {},
     "output_type": "execute_result"
    }
   ],
   "source": [
    "(table-get tab 'Caner)"
   ]
  },
  {
   "cell_type": "code",
   "execution_count": 35,
   "metadata": {},
   "outputs": [
    {
     "data": {
      "text/plain": [
       "2"
      ]
     },
     "execution_count": 35,
     "metadata": {},
     "output_type": "execute_result"
    }
   ],
   "source": [
    "(table-get tab 'Deniz)"
   ]
  },
  {
   "cell_type": "markdown",
   "metadata": {},
   "source": [
    " - `make-table`: $ O(1) $\n",
    " - `table-put!`: $ O(1) $\n",
    " - `table-get `: $ O(N) $"
   ]
  },
  {
   "cell_type": "markdown",
   "metadata": {},
   "source": [
    "## Vectors"
   ]
  },
  {
   "cell_type": "markdown",
   "metadata": {},
   "source": [
    "```scheme\n",
    "; Vector<A>\n",
    "(make-vector size value)\n",
    "(vector-ref v index)\n",
    "(vector-set! v index val)\n",
    "```\n",
    "\n",
    "- `make-vector`, `vector-ref`, `vector-set!`: $ O(1) $\n",
    "- `list-ref`: $ O(N) $\n",
    "\n",
    "\n",
    "- `cons`: $ O(1) $\n",
    "- `vector-cons`: $ O(N) $"
   ]
  },
  {
   "cell_type": "markdown",
   "metadata": {},
   "source": [
    "### Next Table Idea: Binary Search with Vectors"
   ]
  },
  {
   "cell_type": "markdown",
   "metadata": {},
   "source": [
    "Binary Search Complexity: $ O(log n) $ "
   ]
  },
  {
   "cell_type": "markdown",
   "metadata": {},
   "source": [
    "Exercise to home: `table-get` in this implementation"
   ]
  },
  {
   "cell_type": "markdown",
   "metadata": {},
   "source": [
    "### Binary Tree\n",
    "### Hash Table"
   ]
  }
 ],
 "metadata": {
  "kernelspec": {
   "display_name": "Calysto Scheme 3",
   "language": "scheme",
   "name": "calysto_scheme"
  },
  "language_info": {
   "codemirror_mode": {
    "name": "scheme"
   },
   "mimetype": "text/x-scheme",
   "name": "scheme",
   "pygments_lexer": "scheme"
  }
 },
 "nbformat": 4,
 "nbformat_minor": 2
}
