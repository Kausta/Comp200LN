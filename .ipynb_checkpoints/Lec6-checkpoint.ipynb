{
 "cells": [
  {
   "cell_type": "markdown",
   "metadata": {},
   "source": [
    "# Lec6 `#05/10/17`"
   ]
  },
  {
   "cell_type": "markdown",
   "metadata": {},
   "source": [
    "## Types \n",
    "\n",
    "### Primitive Types\n",
    "\n",
    "- 10: Number\n",
    "- (> 1 0): Boolean\n",
    "- \"deniz\": String\n",
    "\n",
    "### Procedure Types\n",
    "\n",
    "- ($\\lambda$ (x) (* x x)) : Number $\\rightarrow$ Number\n",
    "- \\> : Number, Number $\\rightarrow$ Boolean"
   ]
  },
  {
   "cell_type": "markdown",
   "metadata": {},
   "source": [
    "### Higher Order Procedures\n",
    "\n",
    "Procedures that take/return procedures"
   ]
  },
  {
   "cell_type": "code",
   "execution_count": 1,
   "metadata": {},
   "outputs": [
    {
     "data": {
      "text/plain": [
       "14"
      ]
     },
     "execution_count": 1,
     "metadata": {},
     "output_type": "execute_result"
    }
   ],
   "source": [
    "(define (sum-int a b)\n",
    "  (if (> a b)\n",
    "      0\n",
    "      (+ a (sum-int (+ a 1) b))))\n",
    "(sum-int 2 5)"
   ]
  },
  {
   "cell_type": "code",
   "execution_count": 2,
   "metadata": {},
   "outputs": [
    {
     "data": {
      "text/plain": [
       "29"
      ]
     },
     "execution_count": 2,
     "metadata": {},
     "output_type": "execute_result"
    }
   ],
   "source": [
    "(define (sum-sq a b)\n",
    "  (if (> a b)\n",
    "      0\n",
    "      (+ (* a a) (sum-sq (+ a 1) b))))\n",
    "(sum-sq 2 4)"
   ]
  },
  {
   "cell_type": "code",
   "execution_count": 3,
   "metadata": {},
   "outputs": [
    {
     "data": {
      "text/plain": [
       "1289/3465"
      ]
     },
     "execution_count": 3,
     "metadata": {},
     "output_type": "execute_result"
    }
   ],
   "source": [
    "(define (pi-sum a b)\n",
    "  (if (> a b)\n",
    "      0\n",
    "      (+ (/ 1 (* a (+ a 2))) (pi-sum (+ a 4) b))))\n",
    "(pi-sum 1 9)"
   ]
  },
  {
   "cell_type": "markdown",
   "metadata": {},
   "source": [
    "Only increment and function changes -> The rest of the logic is the same."
   ]
  },
  {
   "cell_type": "code",
   "execution_count": 13,
   "metadata": {},
   "outputs": [
    {
     "data": {
      "text/plain": [
       "14"
      ]
     },
     "execution_count": 13,
     "metadata": {},
     "output_type": "execute_result"
    }
   ],
   "source": [
    "(define (sum a b term next)\n",
    "  (if (> a b) \n",
    "      0\n",
    "      (+ (term a) (sum (next a) b term next))))\n",
    "(define (sum-int a b) \n",
    "  (sum a b (lambda (x) x) (lambda (x) (+ x 1))))\n",
    "(sum-int 2 5)"
   ]
  },
  {
   "cell_type": "code",
   "execution_count": 14,
   "metadata": {},
   "outputs": [
    {
     "data": {
      "text/plain": [
       "29"
      ]
     },
     "execution_count": 14,
     "metadata": {},
     "output_type": "execute_result"
    }
   ],
   "source": [
    "(define (sum-sq a b)\n",
    "  (sum a b (lambda (x) (* x x)) (lambda (x) (+ x 1))))\n",
    "(sum-sq 2 4)"
   ]
  },
  {
   "cell_type": "code",
   "execution_count": 15,
   "metadata": {},
   "outputs": [
    {
     "data": {
      "text/plain": [
       "1289/3465"
      ]
     },
     "execution_count": 15,
     "metadata": {},
     "output_type": "execute_result"
    }
   ],
   "source": [
    "(define (pi-sum a b)\n",
    "  (sum a b (lambda (x) (/ 1 (* x (+ x 2)))) (lambda (x) (+ x 4))))\n",
    "(pi-sum 1 9)"
   ]
  },
  {
   "cell_type": "markdown",
   "metadata": {},
   "source": [
    "### Exercise: Write Sum Iteratively"
   ]
  },
  {
   "cell_type": "code",
   "execution_count": 16,
   "metadata": {},
   "outputs": [
    {
     "data": {
      "text/plain": [
       "14"
      ]
     },
     "execution_count": 16,
     "metadata": {},
     "output_type": "execute_result"
    }
   ],
   "source": [
    "(define (sum-helper a b term next cur)\n",
    "  (if (> a b)\n",
    "      cur\n",
    "      (sum-helper (next a) b term next (+ cur (term a)))))\n",
    "(define (sum a b term next)\n",
    "  (sum-helper a b term next 0))\n",
    "(sum-int 2 5)"
   ]
  },
  {
   "cell_type": "code",
   "execution_count": 17,
   "metadata": {},
   "outputs": [
    {
     "data": {
      "text/plain": [
       "29"
      ]
     },
     "execution_count": 17,
     "metadata": {},
     "output_type": "execute_result"
    }
   ],
   "source": [
    "(sum-sq 2 4)"
   ]
  },
  {
   "cell_type": "code",
   "execution_count": 19,
   "metadata": {},
   "outputs": [
    {
     "data": {
      "text/plain": [
       "1289/3465"
      ]
     },
     "execution_count": 19,
     "metadata": {},
     "output_type": "execute_result"
    }
   ],
   "source": [
    "(pi-sum 1 9)"
   ]
  },
  {
   "cell_type": "markdown",
   "metadata": {},
   "source": [
    "### Derivative\n",
    "\n",
    "\\begin{aligned}\n",
    "    f &: x \\rightarrow x ^ 3 \\\\\n",
    "    D f &: x \\rightarrow 3 x ^ 2\n",
    "\\end{aligned}"
   ]
  },
  {
   "cell_type": "code",
   "execution_count": 20,
   "metadata": {},
   "outputs": [
    {
     "data": {
      "text/plain": [
       "8"
      ]
     },
     "execution_count": 20,
     "metadata": {},
     "output_type": "execute_result"
    }
   ],
   "source": [
    "(define f (lambda (x) (* x x x)))\n",
    "(f 2)"
   ]
  },
  {
   "cell_type": "code",
   "execution_count": 21,
   "metadata": {},
   "outputs": [
    {
     "data": {
      "text/plain": [
       "12.000600010022566"
      ]
     },
     "execution_count": 21,
     "metadata": {},
     "output_type": "execute_result"
    }
   ],
   "source": [
    "(define epsilon 0.0001)\n",
    "(define D\n",
    "  (lambda (f)\n",
    "    (lambda (x)\n",
    "      (/ (- (f (+ x epsilon)) (f x)) epsilon))))\n",
    "((D f) 2) "
   ]
  },
  {
   "cell_type": "markdown",
   "metadata": {},
   "source": []
  },
  {
   "cell_type": "markdown",
   "metadata": {},
   "source": []
  },
  {
   "cell_type": "markdown",
   "metadata": {},
   "source": []
  },
  {
   "cell_type": "markdown",
   "metadata": {},
   "source": []
  }
 ],
 "metadata": {
  "kernelspec": {
   "display_name": "Calysto Scheme 3",
   "language": "scheme",
   "name": "calysto_scheme"
  },
  "language_info": {
   "codemirror_mode": {
    "name": "scheme"
   },
   "mimetype": "text/x-scheme",
   "name": "scheme",
   "pygments_lexer": "scheme"
  }
 },
 "nbformat": 4,
 "nbformat_minor": 2
}
