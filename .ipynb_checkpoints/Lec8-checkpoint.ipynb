{
 "cells": [
  {
   "cell_type": "markdown",
   "metadata": {},
   "source": [
    "# Lec8"
   ]
  },
  {
   "cell_type": "markdown",
   "metadata": {},
   "source": [
    "## Some List Procs"
   ]
  },
  {
   "cell_type": "code",
   "execution_count": 4,
   "metadata": {},
   "outputs": [
    {
     "data": {
      "text/plain": [
       "(1 4 9)"
      ]
     },
     "execution_count": 4,
     "metadata": {},
     "output_type": "execute_result"
    }
   ],
   "source": [
    "(define (map proc lst)\n",
    "  (if (null? lst)\n",
    "      `()\n",
    "      (cons (proc (car lst))\n",
    "            (map proc (cdr lst)))))\n",
    "(map (lambda (x) (* x x)) `(1 2 3))"
   ]
  },
  {
   "cell_type": "code",
   "execution_count": 5,
   "metadata": {},
   "outputs": [
    {
     "data": {
      "text/plain": [
       "(2 4)"
      ]
     },
     "execution_count": 5,
     "metadata": {},
     "output_type": "execute_result"
    }
   ],
   "source": [
    "(define (filter pred lst)\n",
    "  (if (null? lst)\n",
    "      `()\n",
    "      (if (pred (car lst))\n",
    "          (cons (car lst)\n",
    "                (filter pred (cdr lst)))\n",
    "          (filter pred (cdr lst)))))\n",
    "(filter even? `(1 2 3 4))"
   ]
  },
  {
   "cell_type": "code",
   "execution_count": 6,
   "metadata": {},
   "outputs": [
    {
     "data": {
      "text/plain": [
       "4"
      ]
     },
     "execution_count": 6,
     "metadata": {},
     "output_type": "execute_result"
    }
   ],
   "source": [
    "(define (length lst)\n",
    "  (if (null? lst)\n",
    "      0\n",
    "      (+ 1 (length (cdr lst)))))\n",
    "(length `(1 2 3 4))"
   ]
  },
  {
   "cell_type": "markdown",
   "metadata": {},
   "source": [
    "## Reduce"
   ]
  },
  {
   "cell_type": "code",
   "execution_count": 7,
   "metadata": {},
   "outputs": [
    {
     "data": {
      "text/plain": [
       "10"
      ]
     },
     "execution_count": 7,
     "metadata": {},
     "output_type": "execute_result"
    }
   ],
   "source": [
    "(define (sum lst)\n",
    "  (if (null? lst)\n",
    "      0\n",
    "      (+ (car lst) (sum (cdr lst)))))\n",
    "(sum `(1 2 3 4))"
   ]
  },
  {
   "cell_type": "code",
   "execution_count": 8,
   "metadata": {},
   "outputs": [
    {
     "data": {
      "text/plain": [
       "24"
      ]
     },
     "execution_count": 8,
     "metadata": {},
     "output_type": "execute_result"
    }
   ],
   "source": [
    "(define (product lst)\n",
    "  (if (null? lst)\n",
    "      1\n",
    "      (* (car lst) (product (cdr lst)))))\n",
    "(product `(1 2 3 4))"
   ]
  },
  {
   "cell_type": "code",
   "execution_count": 17,
   "metadata": {},
   "outputs": [
    {
     "data": {
      "text/plain": [
       "10"
      ]
     },
     "execution_count": 17,
     "metadata": {},
     "output_type": "execute_result"
    }
   ],
   "source": [
    "(define (reduce init merge op lst)\n",
    "  (if (null? lst)\n",
    "      init\n",
    "      (merge (op (car lst)) (reduce init merge op (cdr lst)))))\n",
    "(define (sum lst) \n",
    "  (reduce 0 + (lambda (x) x) lst))\n",
    "(sum `(1 2 3 4))"
   ]
  },
  {
   "cell_type": "code",
   "execution_count": 19,
   "metadata": {},
   "outputs": [
    {
     "data": {
      "text/plain": [
       "24"
      ]
     },
     "execution_count": 19,
     "metadata": {},
     "output_type": "execute_result"
    }
   ],
   "source": [
    "(define (prod lst)\n",
    "  (reduce 1 * (lambda (x) x) lst))\n",
    "(prod `(1 2 3 4))"
   ]
  },
  {
   "cell_type": "code",
   "execution_count": 20,
   "metadata": {},
   "outputs": [
    {
     "data": {
      "text/plain": [
       "4"
      ]
     },
     "execution_count": 20,
     "metadata": {},
     "output_type": "execute_result"
    }
   ],
   "source": [
    "(define (length lst)\n",
    "  (reduce 0 + (lambda (x) 1) lst))\n",
    "(length `(1 2 3 4)) "
   ]
  },
  {
   "cell_type": "code",
   "execution_count": 23,
   "metadata": {},
   "outputs": [
    {
     "data": {
      "text/plain": [
       "30"
      ]
     },
     "execution_count": 23,
     "metadata": {},
     "output_type": "execute_result"
    }
   ],
   "source": [
    "(define (sum-sq lst)\n",
    "  (reduce 0 + (lambda (x) (* x x)) lst))\n",
    "(sum-sq `(1 2 3 4))"
   ]
  },
  {
   "cell_type": "markdown",
   "metadata": {},
   "source": [
    "## Exercise"
   ]
  },
  {
   "cell_type": "code",
   "execution_count": 26,
   "metadata": {},
   "outputs": [
    {
     "data": {
      "text/plain": [
       "(1 3 2 4 5)"
      ]
     },
     "execution_count": 26,
     "metadata": {},
     "output_type": "execute_result"
    }
   ],
   "source": [
    "(define (append lst1 lst2)\n",
    "  (if (null? lst1)\n",
    "      lst2\n",
    "      (cons (car lst1) (append (cdr lst1) lst2))))\n",
    "(append `(1 3) `(2 4 5))"
   ]
  },
  {
   "cell_type": "code",
   "execution_count": 33,
   "metadata": {},
   "outputs": [
    {
     "data": {
      "text/plain": [
       "(5 4 2 3 1)"
      ]
     },
     "execution_count": 33,
     "metadata": {},
     "output_type": "execute_result"
    }
   ],
   "source": [
    "(define (reverse lst)\n",
    "  (if (null? lst) \n",
    "      `()\n",
    "      (append (reverse (cdr lst)) (list (car lst) ))))\n",
    "(reverse `(1 3 2 4 5))"
   ]
  }
 ],
 "metadata": {
  "kernelspec": {
   "display_name": "Calysto Scheme 3",
   "language": "scheme",
   "name": "calysto_scheme"
  },
  "language_info": {
   "codemirror_mode": {
    "name": "scheme"
   },
   "mimetype": "text/x-scheme",
   "name": "scheme",
   "pygments_lexer": "scheme"
  }
 },
 "nbformat": 4,
 "nbformat_minor": 2
}
