{
 "cells": [
  {
   "cell_type": "markdown",
   "metadata": {},
   "source": [
    "# Lec 4 `#28.09.17`"
   ]
  },
  {
   "cell_type": "markdown",
   "metadata": {},
   "source": [
    "### Remainders\n",
    "\n",
    " - PS-2 due to next week\n",
    " - Project 0 due to Oct 2.\n",
    " - Reading: SICP 1.1, 1.2\n",
    " \n",
    "### This lecture\n",
    "\n",
    "Processes created by procedures"
   ]
  },
  {
   "cell_type": "markdown",
   "metadata": {},
   "source": [
    "## Example"
   ]
  },
  {
   "cell_type": "code",
   "execution_count": null,
   "metadata": {
    "collapsed": true
   },
   "outputs": [],
   "source": [
    "; Assume inc and dec are builtin -> add1 and sub1\n",
    "; Define +\n",
    "(define (+ x y) ; assume x y positive integers or zero\n",
    "  (if (= y 0)\n",
    "      x\n",
    "      (+ (add1 x) (sub1 y)))\n",
    ")\n",
    "(+ 5 6)"
   ]
  },
  {
   "cell_type": "code",
   "execution_count": null,
   "metadata": {
    "collapsed": true
   },
   "outputs": [],
   "source": []
  }
 ],
 "metadata": {
  "kernelspec": {
   "display_name": "Calysto Scheme 3",
   "language": "scheme",
   "name": "calysto_scheme"
  },
  "language_info": {
   "codemirror_mode": {
    "name": "scheme"
   },
   "mimetype": "text/x-scheme",
   "name": "scheme",
   "pygments_lexer": "scheme"
  }
 },
 "nbformat": 4,
 "nbformat_minor": 2
}
